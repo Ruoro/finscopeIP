{
  "nbformat": 4,
  "nbformat_minor": 0,
  "metadata": {
    "colab": {
      "name": "FinscopeWeek2IP.ipynb",
      "provenance": [],
      "toc_visible": true,
      "authorship_tag": "ABX9TyMIrgSF6x9QnYXF6BaRP7/F"
    },
    "kernelspec": {
      "name": "python3",
      "display_name": "Python 3"
    },
    "language_info": {
      "name": "python"
    }
  },
  "cells": [
    {
      "cell_type": "markdown",
      "metadata": {
        "id": "4xEe4s6OShae"
      },
      "source": [
        "# FINSCOPE PROJECT"
      ]
    },
    {
      "cell_type": "markdown",
      "metadata": {
        "id": "94RGYxsCTMUU"
      },
      "source": [
        "## Data Understanding \n",
        " Defining the Question \n",
        " \n",
        "a) Specifying the Data Analytic Question\n"
      ]
    },
    {
      "cell_type": "markdown",
      "metadata": {
        "id": "haIdSmyFT4Cl"
      },
      "source": [
        "How to predict which individials are likely to have or use a bank account?"
      ]
    },
    {
      "cell_type": "markdown",
      "metadata": {
        "id": "1TtK8D8OTlDH"
      },
      "source": [
        "b) Defining the Metric for Success\n",
        "Be able to correctly determine the number of principal components that should be used in building the final model\n",
        "To clean the data enough to find the correct Bivariate and multivariate analysis.\n"
      ]
    },
    {
      "cell_type": "markdown",
      "metadata": {
        "id": "seL7S8qATvoX"
      },
      "source": [
        "c) Understanding the context"
      ]
    },
    {
      "cell_type": "markdown",
      "metadata": {
        "id": "kjmqfGHcjteJ"
      },
      "source": [
        "Traditionally, access to bank accounts has been regarded as an indicator of financial inclusion. Despite the improvement of mobile banking services of mobile money in Africa and the growth of innovative fintech solutions, banks still play a pivotal role in facilitating access to financial services.\n",
        "\n",
        "Access to bank accounts enables households to save and facilitate payments while also helping businesses build up their credit-worthiness and improve their access to other financial services. Therefore, access to bank accounts is an essential contributor to long-term economic growth.\n",
        "\n",
        "The research problem is to figure out how we can predict which individuals are most likely to have or use a bank account. Your solution will help provide an indication of the state of financial inclusion in Kenya, Rwanda, Tanzania, and Uganda, while providing insights into some of the key demographic factors that might drive individuals’ financial outcomes.\n",
        "\n",
        "The reaserch conducted here is to find the correct individual financial inclusion statistic in the East Africa region. "
      ]
    },
    {
      "cell_type": "markdown",
      "metadata": {
        "id": "JhZih-PWlPmx"
      },
      "source": [
        "**d**) **Recording the experimental design**\n",
        "\n",
        "\n",
        "CRISP DM methodology was used in this analysis. The steps included in business understanding include:\n",
        "\n",
        "\n",
        "\n",
        "*   Business Understanding\n",
        "*   Data Understanding\n",
        "*   Analysis\n",
        "*   Recomendation \n",
        "*   Evaluation\n",
        "\n"
      ]
    },
    {
      "cell_type": "markdown",
      "metadata": {
        "id": "ylTGCGzeSpau"
      },
      "source": [
        "# 1.0 Importing Libraries"
      ]
    },
    {
      "cell_type": "code",
      "metadata": {
        "colab": {
          "base_uri": "https://localhost:8080/"
        },
        "id": "1GANmnc6S99m",
        "outputId": "b049f9cd-5873-4e19-c7db-3aa87a5c0289"
      },
      "source": [
        "import pandas as pd\n",
        "import numpy as np\n",
        "import seaborn as sns\n",
        "import matplotlib.pyplot as plt\n",
        "\n",
        "print (\"Libraries Imported Successfully\")"
      ],
      "execution_count": 2,
      "outputs": [
        {
          "output_type": "stream",
          "text": [
            "Libraries Imported Successfully\n"
          ],
          "name": "stdout"
        }
      ]
    },
    {
      "cell_type": "markdown",
      "metadata": {
        "id": "Nvd_67XkFhxw"
      },
      "source": [
        "# Load the Dataset."
      ]
    },
    {
      "cell_type": "markdown",
      "metadata": {
        "id": "UmjbvVdmFgeE"
      },
      "source": [
        "There are two datasets that we have been given to work on. The first is the financial data and the socind one is the description."
      ]
    },
    {
      "cell_type": "code",
      "metadata": {
        "id": "1llBzz0yTGbp"
      },
      "source": [
        "# First Dataset\n",
        "Dataset = 'http://bit.ly/FinancialDataset' \n",
        "financial_df = pd.read_csv(Dataset)\n",
        "\n",
        "# Second Dataset\n",
        "Variable  =  'http://bit.ly/VariableDefinitions'\n",
        "variable_definitions = pd.read_csv(Variable)"
      ],
      "execution_count": 3,
      "outputs": []
    },
    {
      "cell_type": "code",
      "metadata": {
        "colab": {
          "base_uri": "https://localhost:8080/",
          "height": 345
        },
        "id": "qepilNCLGmwP",
        "outputId": "60cb8ea9-e390-4410-c693-f215ec018475"
      },
      "source": [
        "# Preview the first Dataset\n",
        "financial_df.head()"
      ],
      "execution_count": 4,
      "outputs": [
        {
          "output_type": "execute_result",
          "data": {
            "text/html": [
              "<div>\n",
              "<style scoped>\n",
              "    .dataframe tbody tr th:only-of-type {\n",
              "        vertical-align: middle;\n",
              "    }\n",
              "\n",
              "    .dataframe tbody tr th {\n",
              "        vertical-align: top;\n",
              "    }\n",
              "\n",
              "    .dataframe thead th {\n",
              "        text-align: right;\n",
              "    }\n",
              "</style>\n",
              "<table border=\"1\" class=\"dataframe\">\n",
              "  <thead>\n",
              "    <tr style=\"text-align: right;\">\n",
              "      <th></th>\n",
              "      <th>country</th>\n",
              "      <th>year</th>\n",
              "      <th>uniqueid</th>\n",
              "      <th>Has a Bank account</th>\n",
              "      <th>Type of Location</th>\n",
              "      <th>Cell Phone Access</th>\n",
              "      <th>household_size</th>\n",
              "      <th>Respondent Age</th>\n",
              "      <th>gender_of_respondent</th>\n",
              "      <th>The relathip with head</th>\n",
              "      <th>marital_status</th>\n",
              "      <th>Level of Educuation</th>\n",
              "      <th>Type of Job</th>\n",
              "    </tr>\n",
              "  </thead>\n",
              "  <tbody>\n",
              "    <tr>\n",
              "      <th>0</th>\n",
              "      <td>Kenya</td>\n",
              "      <td>2018</td>\n",
              "      <td>uniqueid_1</td>\n",
              "      <td>Yes</td>\n",
              "      <td>Rural</td>\n",
              "      <td>Yes</td>\n",
              "      <td>3.0</td>\n",
              "      <td>24.0</td>\n",
              "      <td>Female</td>\n",
              "      <td>Spouse</td>\n",
              "      <td>Married/Living together</td>\n",
              "      <td>Secondary education</td>\n",
              "      <td>Self employed</td>\n",
              "    </tr>\n",
              "    <tr>\n",
              "      <th>1</th>\n",
              "      <td>Kenya</td>\n",
              "      <td>2018</td>\n",
              "      <td>uniqueid_2</td>\n",
              "      <td>No</td>\n",
              "      <td>Rural</td>\n",
              "      <td>No</td>\n",
              "      <td>5.0</td>\n",
              "      <td>70.0</td>\n",
              "      <td>Female</td>\n",
              "      <td>Head of Household</td>\n",
              "      <td>Widowed</td>\n",
              "      <td>No formal education</td>\n",
              "      <td>Government Dependent</td>\n",
              "    </tr>\n",
              "    <tr>\n",
              "      <th>2</th>\n",
              "      <td>Kenya</td>\n",
              "      <td>2018</td>\n",
              "      <td>uniqueid_3</td>\n",
              "      <td>Yes</td>\n",
              "      <td>Urban</td>\n",
              "      <td>Yes</td>\n",
              "      <td>5.0</td>\n",
              "      <td>26.0</td>\n",
              "      <td>Male</td>\n",
              "      <td>Other relative</td>\n",
              "      <td>Single/Never Married</td>\n",
              "      <td>Vocational/Specialised training</td>\n",
              "      <td>Self employed</td>\n",
              "    </tr>\n",
              "    <tr>\n",
              "      <th>3</th>\n",
              "      <td>Kenya</td>\n",
              "      <td>2018</td>\n",
              "      <td>uniqueid_4</td>\n",
              "      <td>No</td>\n",
              "      <td>Rural</td>\n",
              "      <td>Yes</td>\n",
              "      <td>5.0</td>\n",
              "      <td>34.0</td>\n",
              "      <td>Female</td>\n",
              "      <td>Head of Household</td>\n",
              "      <td>Married/Living together</td>\n",
              "      <td>Primary education</td>\n",
              "      <td>Formally employed Private</td>\n",
              "    </tr>\n",
              "    <tr>\n",
              "      <th>4</th>\n",
              "      <td>Kenya</td>\n",
              "      <td>2018</td>\n",
              "      <td>uniqueid_5</td>\n",
              "      <td>No</td>\n",
              "      <td>Urban</td>\n",
              "      <td>No</td>\n",
              "      <td>8.0</td>\n",
              "      <td>26.0</td>\n",
              "      <td>Male</td>\n",
              "      <td>Child</td>\n",
              "      <td>Single/Never Married</td>\n",
              "      <td>Primary education</td>\n",
              "      <td>Informally employed</td>\n",
              "    </tr>\n",
              "  </tbody>\n",
              "</table>\n",
              "</div>"
            ],
            "text/plain": [
              "  country  year  ...              Level of Educuation                Type of Job\n",
              "0   Kenya  2018  ...              Secondary education              Self employed\n",
              "1   Kenya  2018  ...              No formal education       Government Dependent\n",
              "2   Kenya  2018  ...  Vocational/Specialised training              Self employed\n",
              "3   Kenya  2018  ...                Primary education  Formally employed Private\n",
              "4   Kenya  2018  ...                Primary education        Informally employed\n",
              "\n",
              "[5 rows x 13 columns]"
            ]
          },
          "metadata": {
            "tags": []
          },
          "execution_count": 4
        }
      ]
    },
    {
      "cell_type": "code",
      "metadata": {
        "colab": {
          "base_uri": "https://localhost:8080/",
          "height": 425
        },
        "id": "SNjrgX5PGzXI",
        "outputId": "661ca00e-1491-4997-b995-03f96dca703f"
      },
      "source": [
        "# Preview the second database\n",
        "variable_definitions"
      ],
      "execution_count": 5,
      "outputs": [
        {
          "output_type": "execute_result",
          "data": {
            "text/html": [
              "<div>\n",
              "<style scoped>\n",
              "    .dataframe tbody tr th:only-of-type {\n",
              "        vertical-align: middle;\n",
              "    }\n",
              "\n",
              "    .dataframe tbody tr th {\n",
              "        vertical-align: top;\n",
              "    }\n",
              "\n",
              "    .dataframe thead th {\n",
              "        text-align: right;\n",
              "    }\n",
              "</style>\n",
              "<table border=\"1\" class=\"dataframe\">\n",
              "  <thead>\n",
              "    <tr style=\"text-align: right;\">\n",
              "      <th></th>\n",
              "      <th>Variable Definitions</th>\n",
              "      <th>Unnamed: 1</th>\n",
              "    </tr>\n",
              "  </thead>\n",
              "  <tbody>\n",
              "    <tr>\n",
              "      <th>0</th>\n",
              "      <td>country</td>\n",
              "      <td>Country interviewee is in.</td>\n",
              "    </tr>\n",
              "    <tr>\n",
              "      <th>1</th>\n",
              "      <td>year</td>\n",
              "      <td>Year survey was done in.</td>\n",
              "    </tr>\n",
              "    <tr>\n",
              "      <th>2</th>\n",
              "      <td>uniqueid</td>\n",
              "      <td>Unique identifier for each interviewee</td>\n",
              "    </tr>\n",
              "    <tr>\n",
              "      <th>3</th>\n",
              "      <td>location_type</td>\n",
              "      <td>Type of location: Rural, Urban</td>\n",
              "    </tr>\n",
              "    <tr>\n",
              "      <th>4</th>\n",
              "      <td>cellphone_access</td>\n",
              "      <td>If interviewee has access to a cellphone: Yes, No</td>\n",
              "    </tr>\n",
              "    <tr>\n",
              "      <th>5</th>\n",
              "      <td>household_size</td>\n",
              "      <td>Number of people living in one house</td>\n",
              "    </tr>\n",
              "    <tr>\n",
              "      <th>6</th>\n",
              "      <td>age_of_respondent</td>\n",
              "      <td>The age of the interviewee</td>\n",
              "    </tr>\n",
              "    <tr>\n",
              "      <th>7</th>\n",
              "      <td>gender_of_respondent</td>\n",
              "      <td>Gender of interviewee: Male, Female</td>\n",
              "    </tr>\n",
              "    <tr>\n",
              "      <th>8</th>\n",
              "      <td>relationship_with_head</td>\n",
              "      <td>The interviewee’s relationship with the head o...</td>\n",
              "    </tr>\n",
              "    <tr>\n",
              "      <th>9</th>\n",
              "      <td>marital_status</td>\n",
              "      <td>The martial status of the interviewee: Married...</td>\n",
              "    </tr>\n",
              "    <tr>\n",
              "      <th>10</th>\n",
              "      <td>education_level</td>\n",
              "      <td>Highest level of education: No formal educatio...</td>\n",
              "    </tr>\n",
              "    <tr>\n",
              "      <th>11</th>\n",
              "      <td>job_type</td>\n",
              "      <td>Type of job interviewee has: Farming and Fishi...</td>\n",
              "    </tr>\n",
              "  </tbody>\n",
              "</table>\n",
              "</div>"
            ],
            "text/plain": [
              "      Variable Definitions                                         Unnamed: 1\n",
              "0                  country                         Country interviewee is in.\n",
              "1                     year                           Year survey was done in.\n",
              "2                 uniqueid             Unique identifier for each interviewee\n",
              "3            location_type                     Type of location: Rural, Urban\n",
              "4         cellphone_access  If interviewee has access to a cellphone: Yes, No\n",
              "5           household_size               Number of people living in one house\n",
              "6        age_of_respondent                         The age of the interviewee\n",
              "7     gender_of_respondent                Gender of interviewee: Male, Female\n",
              "8   relationship_with_head  The interviewee’s relationship with the head o...\n",
              "9           marital_status  The martial status of the interviewee: Married...\n",
              "10         education_level  Highest level of education: No formal educatio...\n",
              "11                job_type  Type of job interviewee has: Farming and Fishi..."
            ]
          },
          "metadata": {
            "tags": []
          },
          "execution_count": 5
        }
      ]
    },
    {
      "cell_type": "code",
      "metadata": {
        "id": "u2zU6QP4G4vj",
        "colab": {
          "base_uri": "https://localhost:8080/"
        },
        "outputId": "5649a38d-5c3c-4620-f12f-8d8b7ac93e96"
      },
      "source": [
        "# Investigating the dataset\n",
        "financial_df.shape"
      ],
      "execution_count": 6,
      "outputs": [
        {
          "output_type": "execute_result",
          "data": {
            "text/plain": [
              "(23524, 13)"
            ]
          },
          "metadata": {
            "tags": []
          },
          "execution_count": 6
        }
      ]
    },
    {
      "cell_type": "code",
      "metadata": {
        "colab": {
          "base_uri": "https://localhost:8080/"
        },
        "id": "HteM8-dYh0qY",
        "outputId": "91da4883-feef-4206-fc93-4fce0bd296ce"
      },
      "source": [
        "financial_df.info()"
      ],
      "execution_count": 7,
      "outputs": [
        {
          "output_type": "stream",
          "text": [
            "<class 'pandas.core.frame.DataFrame'>\n",
            "RangeIndex: 23524 entries, 0 to 23523\n",
            "Data columns (total 13 columns):\n",
            " #   Column                  Non-Null Count  Dtype  \n",
            "---  ------                  --------------  -----  \n",
            " 0   country                 23510 non-null  object \n",
            " 1   year                    23524 non-null  int64  \n",
            " 2   uniqueid                23524 non-null  object \n",
            " 3   Has a Bank account      23488 non-null  object \n",
            " 4   Type of Location        23509 non-null  object \n",
            " 5   Cell Phone Access       23513 non-null  object \n",
            " 6   household_size          23496 non-null  float64\n",
            " 7   Respondent Age          23490 non-null  float64\n",
            " 8   gender_of_respondent    23490 non-null  object \n",
            " 9   The relathip with head  23520 non-null  object \n",
            " 10  marital_status          23492 non-null  object \n",
            " 11  Level of Educuation     23495 non-null  object \n",
            " 12  Type of Job             23494 non-null  object \n",
            "dtypes: float64(2), int64(1), object(10)\n",
            "memory usage: 2.3+ MB\n"
          ],
          "name": "stdout"
        }
      ]
    },
    {
      "cell_type": "code",
      "metadata": {
        "colab": {
          "base_uri": "https://localhost:8080/"
        },
        "id": "Ppl8y5NFh6qC",
        "outputId": "94733f54-14d5-44f1-df15-fa71420d310b"
      },
      "source": [
        "# finding how much unique entries each field has\n",
        "print(financial_df.nunique())"
      ],
      "execution_count": 8,
      "outputs": [
        {
          "output_type": "stream",
          "text": [
            "country                      4\n",
            "year                         6\n",
            "uniqueid                  8735\n",
            "Has a Bank account           2\n",
            "Type of Location             2\n",
            "Cell Phone Access            2\n",
            "household_size              21\n",
            "Respondent Age              85\n",
            "gender_of_respondent         2\n",
            "The relathip with head       6\n",
            "marital_status               5\n",
            "Level of Educuation          7\n",
            "Type of Job                 10\n",
            "dtype: int64\n"
          ],
          "name": "stdout"
        }
      ]
    },
    {
      "cell_type": "markdown",
      "metadata": {
        "id": "RytSUCFjmDDJ"
      },
      "source": [
        "## Data Cleaning"
      ]
    },
    {
      "cell_type": "code",
      "metadata": {
        "id": "mXAPHmLUiOrS"
      },
      "source": [
        "# renaming columns\n",
        "financial_df.rename(columns = {\n",
        "    'Has a Bank account': 'account_holder',\n",
        "    'Type of Location': 'location_type',\n",
        "    'Cell Phone Access': 'cell_phone_access',\n",
        "    'Respondent Age': 'age',\n",
        "    'gender_of_respondent':'gender',\n",
        "     'The relathip with head': 'relationship_with_head',\n",
        "     'Level of Educuation': 'education_level',\n",
        "     'Type of Job': 'job'}, inplace = True)"
      ],
      "execution_count": 9,
      "outputs": []
    },
    {
      "cell_type": "code",
      "metadata": {
        "colab": {
          "base_uri": "https://localhost:8080/"
        },
        "id": "StzbTMtjmQqH",
        "outputId": "646902ee-d696-4f1e-d734-3cbf4e9a4916"
      },
      "source": [
        "financial_df.columns"
      ],
      "execution_count": 10,
      "outputs": [
        {
          "output_type": "execute_result",
          "data": {
            "text/plain": [
              "Index(['country', 'year', 'uniqueid', 'account_holder', 'location_type',\n",
              "       'cell_phone_access', 'household_size', 'age', 'gender',\n",
              "       'relationship_with_head', 'marital_status', 'education_level', 'job'],\n",
              "      dtype='object')"
            ]
          },
          "metadata": {
            "tags": []
          },
          "execution_count": 10
        }
      ]
    },
    {
      "cell_type": "code",
      "metadata": {
        "colab": {
          "base_uri": "https://localhost:8080/"
        },
        "id": "og9ZfnMdryt3",
        "outputId": "e0e6dfb2-9155-4287-c6bd-727182cbd8c3"
      },
      "source": [
        "financial_df.shape"
      ],
      "execution_count": 11,
      "outputs": [
        {
          "output_type": "execute_result",
          "data": {
            "text/plain": [
              "(23524, 13)"
            ]
          },
          "metadata": {
            "tags": []
          },
          "execution_count": 11
        }
      ]
    },
    {
      "cell_type": "code",
      "metadata": {
        "id": "8JX7ca3mKZNX"
      },
      "source": [
        "#droping the unique ID column\n",
        "financial_df.drop('uniqueid', axis = 1, inplace= True)"
      ],
      "execution_count": 12,
      "outputs": []
    },
    {
      "cell_type": "code",
      "metadata": {
        "colab": {
          "base_uri": "https://localhost:8080/"
        },
        "id": "awEMfIV5LEoE",
        "outputId": "3d8b324b-09a8-4b1a-b96f-da50e517123f"
      },
      "source": [
        "# check for missing values. \n",
        "financial_df.isna().sum()"
      ],
      "execution_count": 13,
      "outputs": [
        {
          "output_type": "execute_result",
          "data": {
            "text/plain": [
              "country                   14\n",
              "year                       0\n",
              "account_holder            36\n",
              "location_type             15\n",
              "cell_phone_access         11\n",
              "household_size            28\n",
              "age                       34\n",
              "gender                    34\n",
              "relationship_with_head     4\n",
              "marital_status            32\n",
              "education_level           29\n",
              "job                       30\n",
              "dtype: int64"
            ]
          },
          "metadata": {
            "tags": []
          },
          "execution_count": 13
        }
      ]
    },
    {
      "cell_type": "code",
      "metadata": {
        "colab": {
          "base_uri": "https://localhost:8080/"
        },
        "id": "rYUXERJNLN8J",
        "outputId": "e9ad20e6-12e2-41f6-8653-ad8c08f7b5cc"
      },
      "source": [
        "# drop all the rows with missing values\n",
        "financial_df.dropna(inplace = True)\n",
        "print('The null values have been dropped successfully')"
      ],
      "execution_count": 14,
      "outputs": [
        {
          "output_type": "stream",
          "text": [
            "The null values have been dropped successfully\n"
          ],
          "name": "stdout"
        }
      ]
    },
    {
      "cell_type": "code",
      "metadata": {
        "colab": {
          "base_uri": "https://localhost:8080/"
        },
        "id": "HPyMbupFLiYw",
        "outputId": "d3a045c5-9875-4a95-8009-05cedc2050da"
      },
      "source": [
        "#confirm that there are no missing values\n",
        "financial_df.isna().sum()\n"
      ],
      "execution_count": 15,
      "outputs": [
        {
          "output_type": "execute_result",
          "data": {
            "text/plain": [
              "country                   0\n",
              "year                      0\n",
              "account_holder            0\n",
              "location_type             0\n",
              "cell_phone_access         0\n",
              "household_size            0\n",
              "age                       0\n",
              "gender                    0\n",
              "relationship_with_head    0\n",
              "marital_status            0\n",
              "education_level           0\n",
              "job                       0\n",
              "dtype: int64"
            ]
          },
          "metadata": {
            "tags": []
          },
          "execution_count": 15
        }
      ]
    },
    {
      "cell_type": "code",
      "metadata": {
        "colab": {
          "base_uri": "https://localhost:8080/"
        },
        "id": "3k6hGWIaLl-m",
        "outputId": "9ae27403-fddc-42dc-9b84-6174736eedc0"
      },
      "source": [
        "#check the data typpes\n",
        "financial_df.dtypes"
      ],
      "execution_count": 16,
      "outputs": [
        {
          "output_type": "execute_result",
          "data": {
            "text/plain": [
              "country                    object\n",
              "year                        int64\n",
              "account_holder             object\n",
              "location_type              object\n",
              "cell_phone_access          object\n",
              "household_size            float64\n",
              "age                       float64\n",
              "gender                     object\n",
              "relationship_with_head     object\n",
              "marital_status             object\n",
              "education_level            object\n",
              "job                        object\n",
              "dtype: object"
            ]
          },
          "metadata": {
            "tags": []
          },
          "execution_count": 16
        }
      ]
    },
    {
      "cell_type": "markdown",
      "metadata": {
        "id": "xqTyeV9KLz9o"
      },
      "source": [
        "The year column should be  datetime column. \n",
        "Converting the column to date and time should be the next step"
      ]
    },
    {
      "cell_type": "code",
      "metadata": {
        "colab": {
          "base_uri": "https://localhost:8080/"
        },
        "id": "lPlJLGeHLszR",
        "outputId": "4ea35199-71aa-4513-c909-fea400d285e6"
      },
      "source": [
        "# convert the year column to datetime \n",
        "financial_df['year'] = pd.to_datetime(financial_df['year'], format='%Y')\n",
        "financial_df.dtypes"
      ],
      "execution_count": 17,
      "outputs": [
        {
          "output_type": "execute_result",
          "data": {
            "text/plain": [
              "country                           object\n",
              "year                      datetime64[ns]\n",
              "account_holder                    object\n",
              "location_type                     object\n",
              "cell_phone_access                 object\n",
              "household_size                   float64\n",
              "age                              float64\n",
              "gender                            object\n",
              "relationship_with_head            object\n",
              "marital_status                    object\n",
              "education_level                   object\n",
              "job                               object\n",
              "dtype: object"
            ]
          },
          "metadata": {
            "tags": []
          },
          "execution_count": 17
        }
      ]
    },
    {
      "cell_type": "markdown",
      "metadata": {
        "id": "0UWvZDAAN5jV"
      },
      "source": [
        "## Outliers and Anomalies "
      ]
    },
    {
      "cell_type": "code",
      "metadata": {
        "colab": {
          "base_uri": "https://localhost:8080/",
          "height": 314
        },
        "id": "K9P5ktq9NWla",
        "outputId": "5e0943e9-2856-4d27-bef3-67604e096e64"
      },
      "source": [
        "# outliers in the age column. \n",
        "\n",
        "# plt.boxplot(financial_df['age'], )\n",
        "sns.boxplot (x = financial_df['age'])\n",
        "\n",
        "max_age = financial_df['age'].max()\n",
        "min_age = financial_df['age'].min()\n",
        "\n",
        "print (max_age)\n",
        "print (min_age)"
      ],
      "execution_count": 18,
      "outputs": [
        {
          "output_type": "stream",
          "text": [
            "100.0\n",
            "16.0\n"
          ],
          "name": "stdout"
        },
        {
          "output_type": "display_data",
          "data": {
            "image/png": "[encoded data removed]",
            "text/plain": [
              "<Figure size 432x288 with 1 Axes>"
            ]
          },
          "metadata": {
            "tags": [],
            "needs_background": "light"
          }
        }
      ]
    },
    {
      "cell_type": "markdown",
      "metadata": {
        "id": "5JTvp_U1UKFS"
      },
      "source": [
        "From the analysis, it is clear that the oldest respondent is 100 years and the youngest respondent is i6 years. 100 year plausible therefore, we will not be removing the ouliers. "
      ]
    },
    {
      "cell_type": "code",
      "metadata": {
        "colab": {
          "base_uri": "https://localhost:8080/",
          "height": 314
        },
        "id": "DtyZ7EFuNZVA",
        "outputId": "6792bc03-76f8-460f-d046-6096bde2546d"
      },
      "source": [
        "#outliers in the household column\n",
        "sns.boxplot (x = financial_df['household_size'])\n",
        "max_house = financial_df['household_size'].max()\n",
        "min_house = financial_df['household_size'].min()\n",
        "\n",
        "print (max_house)\n",
        "print (min_house)"
      ],
      "execution_count": 19,
      "outputs": [
        {
          "output_type": "stream",
          "text": [
            "21.0\n",
            "0.0\n"
          ],
          "name": "stdout"
        },
        {
          "output_type": "display_data",
          "data": {
            "image/png": "[encoded data removed]",
            "text/plain": [
              "<Figure size 432x288 with 1 Axes>"
            ]
          },
          "metadata": {
            "tags": [],
            "needs_background": "light"
          }
        }
      ]
    },
    {
      "cell_type": "markdown",
      "metadata": {
        "id": "M3toJIPQWzUT"
      },
      "source": [
        "The maximum household size is 21 which can be plausible. However the minimum household size is 0 which is an anomaly. Which has to be removed\n"
      ]
    },
    {
      "cell_type": "code",
      "metadata": {
        "colab": {
          "base_uri": "https://localhost:8080/"
        },
        "id": "hGEPBpVXR0Li",
        "outputId": "fa53d95d-74c1-477c-f82a-e5e807176629"
      },
      "source": [
        "# remove anomaly in household\n",
        "\n",
        "print ('old shape: ', financial_df.shape )\n",
        "financial_df = financial_df.loc[financial_df['household_size'] != 0]\n",
        "print ('new shape: ', financial_df.shape )\n"
      ],
      "execution_count": 20,
      "outputs": [
        {
          "output_type": "stream",
          "text": [
            "old shape:  (23343, 12)\n",
            "new shape:  (23307, 12)\n"
          ],
          "name": "stdout"
        }
      ]
    },
    {
      "cell_type": "code",
      "metadata": {
        "colab": {
          "base_uri": "https://localhost:8080/"
        },
        "id": "aE3llEtgSuEW",
        "outputId": "78e79981-fab4-4dc3-edf4-e5b4388ee88a"
      },
      "source": [
        "#year \n",
        "financial_df['year'].unique()"
      ],
      "execution_count": 21,
      "outputs": [
        {
          "output_type": "execute_result",
          "data": {
            "text/plain": [
              "array(['2018-01-01T00:00:00.000000000', '2029-01-01T00:00:00.000000000',\n",
              "       '2056-01-01T00:00:00.000000000', '2016-01-01T00:00:00.000000000',\n",
              "       '2039-01-01T00:00:00.000000000', '2017-01-01T00:00:00.000000000'],\n",
              "      dtype='datetime64[ns]')"
            ]
          },
          "metadata": {
            "tags": []
          },
          "execution_count": 21
        }
      ]
    },
    {
      "cell_type": "markdown",
      "metadata": {
        "id": "H0d1EdcFawgV"
      },
      "source": [
        "From the documentation we know that the data in the dataframe was recorded for three years (2016, 2017, and 2018). Therefore the rest of the data is an anomaly. Removing the anomaly is the next step.\n"
      ]
    },
    {
      "cell_type": "code",
      "metadata": {
        "colab": {
          "base_uri": "https://localhost:8080/"
        },
        "id": "B1hEVwgZS6fp",
        "outputId": "81f5bd2d-728d-4f09-9507-e097ef7158d4"
      },
      "source": [
        "#Removing oultiers in the year column\n",
        "print ('old shape: ', financial_df.shape )\n",
        "financial_df = financial_df.loc[financial_df['year'] <= '2019']\n",
        "print ('new shape: ', financial_df.shape )\n"
      ],
      "execution_count": 22,
      "outputs": [
        {
          "output_type": "stream",
          "text": [
            "old shape:  (23307, 12)\n",
            "new shape:  (23304, 12)\n"
          ],
          "name": "stdout"
        }
      ]
    },
    {
      "cell_type": "code",
      "metadata": {
        "colab": {
          "base_uri": "https://localhost:8080/"
        },
        "id": "BChOwSKKTPvX",
        "outputId": "35f65f1f-af84-48fa-920e-361fa9404e7f"
      },
      "source": [
        "# Cleaning up the Level of Education column\n",
        "\n",
        "financial_df['education_level'] = financial_df['education_level'].str.replace('6','Other/Dont know/RTA' )\n",
        "# check if the 6 in the column is gone \n",
        "financial_df['education_level'].unique()"
      ],
      "execution_count": 23,
      "outputs": [
        {
          "output_type": "execute_result",
          "data": {
            "text/plain": [
              "array(['Secondary education', 'No formal education',\n",
              "       'Vocational/Specialised training', 'Primary education',\n",
              "       'Tertiary education', 'Other/Dont know/RTA'], dtype=object)"
            ]
          },
          "metadata": {
            "tags": []
          },
          "execution_count": 23
        }
      ]
    },
    {
      "cell_type": "markdown",
      "metadata": {
        "id": "4FNb1YzikAXl"
      },
      "source": [
        "# Eploratory Data Analysis"
      ]
    },
    {
      "cell_type": "markdown",
      "metadata": {
        "id": "xeTi3bAHkIKQ"
      },
      "source": [
        "## Univariate Data Analysis"
      ]
    },
    {
      "cell_type": "markdown",
      "metadata": {
        "id": "6dr4oxcDkUgH"
      },
      "source": [
        "### Categorical Data"
      ]
    },
    {
      "cell_type": "code",
      "metadata": {
        "colab": {
          "base_uri": "https://localhost:8080/"
        },
        "id": "zvpQAqQETPxX",
        "outputId": "41a2985d-9d75-4ae3-e6be-63919fefee5b"
      },
      "source": [
        "# country\n",
        "#how many countries are in the dataset.\n",
        "financial_df['country'].value_counts()\n",
        "\n"
      ],
      "execution_count": 24,
      "outputs": [
        {
          "output_type": "execute_result",
          "data": {
            "text/plain": [
              "Rwanda      8683\n",
              "Tanzania    6464\n",
              "Kenya       6062\n",
              "Uganda      2095\n",
              "Name: country, dtype: int64"
            ]
          },
          "metadata": {
            "tags": []
          },
          "execution_count": 24
        }
      ]
    },
    {
      "cell_type": "markdown",
      "metadata": {
        "id": "3FLZCgBioIbj"
      },
      "source": [
        "The country that contributed to most of the data in the dataframe is Rwanda"
      ]
    },
    {
      "cell_type": "code",
      "metadata": {
        "colab": {
          "base_uri": "https://localhost:8080/"
        },
        "id": "UPlNcEcfTPz7",
        "outputId": "f99bade5-8f4c-49df-9a79-1fd184d7853f"
      },
      "source": [
        "# Gender\n",
        "financial_df['gender'].value_counts()\n"
      ],
      "execution_count": 25,
      "outputs": [
        {
          "output_type": "execute_result",
          "data": {
            "text/plain": [
              "Female    13740\n",
              "Male       9564\n",
              "Name: gender, dtype: int64"
            ]
          },
          "metadata": {
            "tags": []
          },
          "execution_count": 25
        }
      ]
    },
    {
      "cell_type": "markdown",
      "metadata": {
        "id": "VKnMX4emn5t7"
      },
      "source": [
        "There were more Females interviwed for this dataset than males."
      ]
    },
    {
      "cell_type": "code",
      "metadata": {
        "colab": {
          "base_uri": "https://localhost:8080/"
        },
        "id": "b_RdZCRlTP3P",
        "outputId": "62964cb8-31d3-4a49-8cf8-ef83cf96178f"
      },
      "source": [
        "financial_df['year'].value_counts()"
      ],
      "execution_count": 26,
      "outputs": [
        {
          "output_type": "execute_result",
          "data": {
            "text/plain": [
              "2016-01-01    8683\n",
              "2018-01-01    8157\n",
              "2017-01-01    6464\n",
              "Name: year, dtype: int64"
            ]
          },
          "metadata": {
            "tags": []
          },
          "execution_count": 26
        }
      ]
    },
    {
      "cell_type": "markdown",
      "metadata": {
        "id": "AiXgD9pUouCE"
      },
      "source": [
        "Most of the data was collected in 2016"
      ]
    },
    {
      "cell_type": "code",
      "metadata": {
        "colab": {
          "base_uri": "https://localhost:8080/",
          "height": 0
        },
        "id": "mQfclnqITP-Q",
        "outputId": "4ec1c076-26f4-4de8-efe5-4741f899c842"
      },
      "source": [
        "financial_df['account_holder'].value_counts()\n",
        "labl = financial_df['account_holder'].unique()\n",
        "plt.pie(financial_df['account_holder'].value_counts().sort_values(), labels=labl, autopct='%1.1f%%' )\n",
        "plt.title('People with bank accounts', fontsize = 15)\n",
        "print (financial_df['account_holder'].value_counts())"
      ],
      "execution_count": 27,
      "outputs": [
        {
          "output_type": "stream",
          "text": [
            "No     20009\n",
            "Yes     3295\n",
            "Name: account_holder, dtype: int64\n"
          ],
          "name": "stdout"
        },
        {
          "output_type": "display_data",
          "data": {
            "image/png": "[encoded data removed]",
            "text/plain": [
              "<Figure size 432x288 with 1 Axes>"
            ]
          },
          "metadata": {
            "tags": []
          }
        }
      ]
    },
    {
      "cell_type": "markdown",
      "metadata": {
        "id": "ndnCdhhPo3YE"
      },
      "source": [
        "Majority of the respondents do not have a bank account"
      ]
    },
    {
      "cell_type": "code",
      "metadata": {
        "colab": {
          "base_uri": "https://localhost:8080/",
          "height": 0
        },
        "id": "C6W2KYbITQBu",
        "outputId": "51bbfc55-fd2b-4b95-fa44-b148202e644a"
      },
      "source": [
        "financial_df['cell_phone_access'].value_counts()\n",
        "labl = financial_df['cell_phone_access'].unique()\n",
        "plt.pie(financial_df['cell_phone_access'].value_counts(), labels=labl, autopct='%1.1f%%' )\n",
        "plt.title('Cell phone access', fontsize = 15)\n",
        "print (financial_df['cell_phone_access'].value_counts())\n"
      ],
      "execution_count": 28,
      "outputs": [
        {
          "output_type": "stream",
          "text": [
            "Yes    17319\n",
            "No      5985\n",
            "Name: cell_phone_access, dtype: int64\n"
          ],
          "name": "stdout"
        },
        {
          "output_type": "display_data",
          "data": {
            "image/png": "[encoded data removed]",
            "text/plain": [
              "<Figure size 432x288 with 1 Axes>"
            ]
          },
          "metadata": {
            "tags": []
          }
        }
      ]
    },
    {
      "cell_type": "markdown",
      "metadata": {
        "id": "9wbsX_BmqvpC"
      },
      "source": [
        "Majority of the respondents had access to phones. "
      ]
    },
    {
      "cell_type": "code",
      "metadata": {
        "colab": {
          "base_uri": "https://localhost:8080/",
          "height": 0
        },
        "id": "ADaDgVttTEA9",
        "outputId": "fd81a5d3-01b3-49f5-ef40-56540b699cc4"
      },
      "source": [
        "#Displaying the education variable\n",
        "plt.figure(figsize=(15,4))\n",
        "\n",
        "sns.countplot(x = financial_df['education_level'].dropna(), order = financial_df['education_level'].value_counts().index);\n",
        "plt.title('Bar chart on the Level of Education  of the respondents')\n",
        "\n"
      ],
      "execution_count": 29,
      "outputs": [
        {
          "output_type": "execute_result",
          "data": {
            "text/plain": [
              "Text(0.5, 1.0, 'Bar chart on the Level of Education  of the respondents')"
            ]
          },
          "metadata": {
            "tags": []
          },
          "execution_count": 29
        },
        {
          "output_type": "display_data",
          "data": {
            "image/png": "[encoded data removed]",
            "text/plain": [
              "<Figure size 1080x288 with 1 Axes>"
            ]
          },
          "metadata": {
            "tags": [],
            "needs_background": "light"
          }
        }
      ]
    },
    {
      "cell_type": "markdown",
      "metadata": {
        "id": "yXvnjxD0FnPn"
      },
      "source": [
        "Most of the respondents have a primary scholl educations and very few people have Tetriary education"
      ]
    },
    {
      "cell_type": "code",
      "metadata": {
        "colab": {
          "base_uri": "https://localhost:8080/",
          "height": 0
        },
        "id": "3NV4jQkOF2Al",
        "outputId": "40f4edba-19b9-4a41-ce72-9c91d135dc4d"
      },
      "source": [
        "# finding the demographic of people based on the maritial status \n",
        "plt.figure(figsize=(13,4))\n",
        "\n",
        "sns.countplot(x = financial_df['marital_status'].dropna(), order = financial_df['marital_status'].value_counts().index);\n",
        "plt.title('Bar chart of the marital status of the population')"
      ],
      "execution_count": 30,
      "outputs": [
        {
          "output_type": "execute_result",
          "data": {
            "text/plain": [
              "Text(0.5, 1.0, 'Bar chart of the marital status of the population')"
            ]
          },
          "metadata": {
            "tags": []
          },
          "execution_count": 30
        },
        {
          "output_type": "display_data",
          "data": {
            "image/png": "[encoded data removed]",
            "text/plain": [
              "<Figure size 936x288 with 1 Axes>"
            ]
          },
          "metadata": {
            "tags": [],
            "needs_background": "light"
          }
        }
      ]
    },
    {
      "cell_type": "markdown",
      "metadata": {
        "id": "f43q6lM_q6Ey"
      },
      "source": [
        "### Ordianal and Ratio data "
      ]
    },
    {
      "cell_type": "markdown",
      "metadata": {
        "id": "qVor3cz3DTRy"
      },
      "source": [
        "#### Household size"
      ]
    },
    {
      "cell_type": "code",
      "metadata": {
        "colab": {
          "base_uri": "https://localhost:8080/"
        },
        "id": "s_JhsAwLsvsj",
        "outputId": "318fc623-e185-444d-ce45-fc37d160c37c"
      },
      "source": [
        "# household size\n",
        "#mean of Household size\n",
        "financial_df['household_size'].mean()"
      ],
      "execution_count": 74,
      "outputs": [
        {
          "output_type": "execute_result",
          "data": {
            "text/plain": [
              "3.6942584963954688"
            ]
          },
          "metadata": {
            "tags": []
          },
          "execution_count": 74
        }
      ]
    },
    {
      "cell_type": "markdown",
      "metadata": {
        "id": "q3Z3V0RW4gRc"
      },
      "source": [
        "The average household size is 3.69 which when rounded off is 4"
      ]
    },
    {
      "cell_type": "code",
      "metadata": {
        "colab": {
          "base_uri": "https://localhost:8080/"
        },
        "id": "fmfcEzDEs36a",
        "outputId": "3272639a-5c80-43e7-b56f-45ea3ed52532"
      },
      "source": [
        "#mode of household size\n",
        "financial_df['household_size'].mode()\n"
      ],
      "execution_count": 75,
      "outputs": [
        {
          "output_type": "execute_result",
          "data": {
            "text/plain": [
              "0    2.0\n",
              "dtype: float64"
            ]
          },
          "metadata": {
            "tags": []
          },
          "execution_count": 75
        }
      ]
    },
    {
      "cell_type": "code",
      "metadata": {
        "colab": {
          "base_uri": "https://localhost:8080/"
        },
        "id": "TWvFJv3Ts4Qy",
        "outputId": "a800cb5c-4096-49f2-ba73-d522c49d018d"
      },
      "source": [
        "# median \n",
        "financial_df['household_size'].median()\n"
      ],
      "execution_count": 76,
      "outputs": [
        {
          "output_type": "execute_result",
          "data": {
            "text/plain": [
              "3.0"
            ]
          },
          "metadata": {
            "tags": []
          },
          "execution_count": 76
        }
      ]
    },
    {
      "cell_type": "code",
      "metadata": {
        "colab": {
          "base_uri": "https://localhost:8080/"
        },
        "id": "ILbELIkvAQuW",
        "outputId": "3ce7f4b9-3923-4e6d-eb50-43b529ceb18e"
      },
      "source": [
        "# Standard deviation.\n",
        "financial_df['household_size'].std()"
      ],
      "execution_count": 77,
      "outputs": [
        {
          "output_type": "execute_result",
          "data": {
            "text/plain": [
              "2.2784210534856366"
            ]
          },
          "metadata": {
            "tags": []
          },
          "execution_count": 77
        }
      ]
    },
    {
      "cell_type": "code",
      "metadata": {
        "colab": {
          "base_uri": "https://localhost:8080/"
        },
        "id": "JpAMZmL6AQnT",
        "outputId": "8db75748-324d-4deb-89a8-b083ec125466"
      },
      "source": [
        "# variance\n",
        "financial_df['household_size'].var()\n"
      ],
      "execution_count": 78,
      "outputs": [
        {
          "output_type": "execute_result",
          "data": {
            "text/plain": [
              "5.191202496966597"
            ]
          },
          "metadata": {
            "tags": []
          },
          "execution_count": 78
        }
      ]
    },
    {
      "cell_type": "code",
      "metadata": {
        "colab": {
          "base_uri": "https://localhost:8080/"
        },
        "id": "ElfSRr85AQjF",
        "outputId": "04da292f-2285-4017-c2ba-9c4515d8b25c"
      },
      "source": [
        "min_hs = financial_df['household_size'].min()\n",
        "max_hs = financial_df['household_size'].max()\n",
        "\n",
        "#range\n",
        "hs_range = max_hs - min_hs\n",
        "\n",
        "print('The range of Household size in the financial dataset is: ', hs_range)"
      ],
      "execution_count": 79,
      "outputs": [
        {
          "output_type": "stream",
          "text": [
            "The range of Household size in the financial dataset is:  20.0\n"
          ],
          "name": "stdout"
        }
      ]
    },
    {
      "cell_type": "code",
      "metadata": {
        "colab": {
          "base_uri": "https://localhost:8080/",
          "height": 0
        },
        "id": "CKvJ5Ny0AQfb",
        "outputId": "795b3fd1-3edf-4e05-eb3d-2638c132f1a1"
      },
      "source": [
        "# Quantiles\n",
        "financial_df['household_size'].quantile([0.25, 0.50, 0.75])\n",
        "ax = sns.boxplot(x = financial_df['household_size'])\n",
        "ax.set_title ('Box plot of the Household size', fontsize = 15)\n",
        "print (financial_df['household_size'].quantile([0.25, 0.50, 0.75]))"
      ],
      "execution_count": 80,
      "outputs": [
        {
          "output_type": "stream",
          "text": [
            "0.25    2.0\n",
            "0.50    3.0\n",
            "0.75    5.0\n",
            "Name: household_size, dtype: float64\n"
          ],
          "name": "stdout"
        },
        {
          "output_type": "display_data",
          "data": {
            "image/png": "[encoded data removed]",
            "text/plain": [
              "<Figure size 432x288 with 1 Axes>"
            ]
          },
          "metadata": {
            "tags": [],
            "needs_background": "light"
          }
        }
      ]
    },
    {
      "cell_type": "code",
      "metadata": {
        "colab": {
          "base_uri": "https://localhost:8080/"
        },
        "id": "vbV3uqZLAQc_",
        "outputId": "f8f38b39-ed4d-4046-8df1-3c4cbb49bc89"
      },
      "source": [
        "# skewness\n",
        "financial_df['household_size'].skew()"
      ],
      "execution_count": 81,
      "outputs": [
        {
          "output_type": "execute_result",
          "data": {
            "text/plain": [
              "0.978410362939571"
            ]
          },
          "metadata": {
            "tags": []
          },
          "execution_count": 81
        }
      ]
    },
    {
      "cell_type": "code",
      "metadata": {
        "colab": {
          "base_uri": "https://localhost:8080/"
        },
        "id": "oywdF1kyAQLx",
        "outputId": "02ae47e6-cc96-4a36-f7d5-729ebaa0f5f8"
      },
      "source": [
        "# kurtosis\n",
        "financial_df['household_size'].kurt()\n"
      ],
      "execution_count": 82,
      "outputs": [
        {
          "output_type": "execute_result",
          "data": {
            "text/plain": [
              "1.160696034089141"
            ]
          },
          "metadata": {
            "tags": []
          },
          "execution_count": 82
        }
      ]
    },
    {
      "cell_type": "code",
      "metadata": {
        "colab": {
          "base_uri": "https://localhost:8080/",
          "height": 0
        },
        "id": "ATiXzibCC3VN",
        "outputId": "473aa6c7-1b0a-4a0f-c04d-f8104661bb1b"
      },
      "source": [
        "# Histogram of household size distribution.\n",
        "ax = sns.histplot(financial_df['household_size'])\n",
        "ax.set_title('Household size distribution of respondents', fontsize = 16)\n",
        "ax.set_ylabel('Number of poeple') "
      ],
      "execution_count": 83,
      "outputs": [
        {
          "output_type": "execute_result",
          "data": {
            "text/plain": [
              "Text(0, 0.5, 'Number of poeple')"
            ]
          },
          "metadata": {
            "tags": []
          },
          "execution_count": 83
        },
        {
          "output_type": "display_data",
          "data": {
            "image/png": "[encoded data removed]",
            "text/plain": [
              "<Figure size 432x288 with 1 Axes>"
            ]
          },
          "metadata": {
            "tags": [],
            "needs_background": "light"
          }
        }
      ]
    },
    {
      "cell_type": "markdown",
      "metadata": {
        "id": "9ZvOzN0-AE8z"
      },
      "source": [
        "#### Age"
      ]
    },
    {
      "cell_type": "code",
      "metadata": {
        "colab": {
          "base_uri": "https://localhost:8080/"
        },
        "id": "rNrtqPO0s4db",
        "outputId": "5f76b70a-00b1-4ef9-c706-6ecbbf9c065f"
      },
      "source": [
        "# Age\n",
        "#mean age\n",
        "financial_df['age'].mean()"
      ],
      "execution_count": 84,
      "outputs": [
        {
          "output_type": "execute_result",
          "data": {
            "text/plain": [
              "38.780595605904566"
            ]
          },
          "metadata": {
            "tags": []
          },
          "execution_count": 84
        }
      ]
    },
    {
      "cell_type": "code",
      "metadata": {
        "colab": {
          "base_uri": "https://localhost:8080/"
        },
        "id": "OANKenmP4u-v",
        "outputId": "7d609af3-895c-4c17-c0c6-44fda9048997"
      },
      "source": [
        "#mode age\n",
        "financial_df['age'].mode()"
      ],
      "execution_count": 85,
      "outputs": [
        {
          "output_type": "execute_result",
          "data": {
            "text/plain": [
              "0    30.0\n",
              "dtype: float64"
            ]
          },
          "metadata": {
            "tags": []
          },
          "execution_count": 85
        }
      ]
    },
    {
      "cell_type": "code",
      "metadata": {
        "colab": {
          "base_uri": "https://localhost:8080/"
        },
        "id": "jwA--2uT43bU",
        "outputId": "678bb64f-8a7d-4d82-b55f-7032e689a926"
      },
      "source": [
        "#median age\n",
        "financial_df['age'].median()"
      ],
      "execution_count": 86,
      "outputs": [
        {
          "output_type": "execute_result",
          "data": {
            "text/plain": [
              "35.0"
            ]
          },
          "metadata": {
            "tags": []
          },
          "execution_count": 86
        }
      ]
    },
    {
      "cell_type": "markdown",
      "metadata": {
        "id": "mBhFe1UR4_IB"
      },
      "source": [
        "The Mean age of the respondents is 38.7 which rounds of to 39."
      ]
    },
    {
      "cell_type": "code",
      "metadata": {
        "colab": {
          "base_uri": "https://localhost:8080/"
        },
        "id": "Fr7_USU45cG_",
        "outputId": "e6b71890-1830-47a3-af68-d725b2d92980"
      },
      "source": [
        "# Age Range \n",
        "min_age = financial_df['age'].min()\n",
        "max_age = financial_df['age'].max()\n",
        "\n",
        "#range\n",
        "age_range = max_age - min_age\n",
        " \n",
        "print('The range of age in the financial dataset is: ', age_range)"
      ],
      "execution_count": 87,
      "outputs": [
        {
          "output_type": "stream",
          "text": [
            "The range of age in the financial dataset is:  84.0\n"
          ],
          "name": "stdout"
        }
      ]
    },
    {
      "cell_type": "code",
      "metadata": {
        "colab": {
          "base_uri": "https://localhost:8080/"
        },
        "id": "8IQnGh9d5cED",
        "outputId": "30e759de-4ecd-4dd8-93a5-139c0d8b475f"
      },
      "source": [
        "# The standard deviation of age\n",
        "financial_df['age'].std()"
      ],
      "execution_count": 88,
      "outputs": [
        {
          "output_type": "execute_result",
          "data": {
            "text/plain": [
              "16.484322096040838"
            ]
          },
          "metadata": {
            "tags": []
          },
          "execution_count": 88
        }
      ]
    },
    {
      "cell_type": "code",
      "metadata": {
        "colab": {
          "base_uri": "https://localhost:8080/"
        },
        "id": "-cribt6W5cA-",
        "outputId": "b6d58b5b-7774-40f8-a127-ef374f183c51"
      },
      "source": [
        "# The variance of age data\n",
        "financial_df['age'].var()\n"
      ],
      "execution_count": 89,
      "outputs": [
        {
          "output_type": "execute_result",
          "data": {
            "text/plain": [
              "271.73287496602023"
            ]
          },
          "metadata": {
            "tags": []
          },
          "execution_count": 89
        }
      ]
    },
    {
      "cell_type": "code",
      "metadata": {
        "colab": {
          "base_uri": "https://localhost:8080/"
        },
        "id": "iTGhhAfV5b9W",
        "outputId": "6d9c559b-58ae-4751-f7f8-76960ddf9f9a"
      },
      "source": [
        "# Quantiles\n",
        "financial_df['age'].quantile([0.25, 0.50, 0.75])\n"
      ],
      "execution_count": 90,
      "outputs": [
        {
          "output_type": "execute_result",
          "data": {
            "text/plain": [
              "0.25    26.0\n",
              "0.50    35.0\n",
              "0.75    49.0\n",
              "Name: age, dtype: float64"
            ]
          },
          "metadata": {
            "tags": []
          },
          "execution_count": 90
        }
      ]
    },
    {
      "cell_type": "code",
      "metadata": {
        "colab": {
          "base_uri": "https://localhost:8080/"
        },
        "id": "yszJTKEq5b3m",
        "outputId": "1b003ba5-e45a-4340-bed8-70de5f87cbc5"
      },
      "source": [
        "# Interquantile range\n",
        "q3 = financial_df['age'].quantile(0.75)\n",
        "q1 = financial_df['age'].quantile(0.25)  \n",
        "\n",
        "print('The interquantile range is: ',  q3 - q1)"
      ],
      "execution_count": 91,
      "outputs": [
        {
          "output_type": "stream",
          "text": [
            "The interquantile range is:  23.0\n"
          ],
          "name": "stdout"
        }
      ]
    },
    {
      "cell_type": "code",
      "metadata": {
        "colab": {
          "base_uri": "https://localhost:8080/"
        },
        "id": "OoNeH74Z-YSB",
        "outputId": "441dd42f-59a6-41f3-86dc-a24acd664501"
      },
      "source": [
        "# skewness\n",
        "financial_df['age'].skew()\n"
      ],
      "execution_count": 92,
      "outputs": [
        {
          "output_type": "execute_result",
          "data": {
            "text/plain": [
              "0.8381743097500266"
            ]
          },
          "metadata": {
            "tags": []
          },
          "execution_count": 92
        }
      ]
    },
    {
      "cell_type": "code",
      "metadata": {
        "colab": {
          "base_uri": "https://localhost:8080/",
          "height": 0
        },
        "id": "vQwtpeGq46m-",
        "outputId": "700399fb-6970-427a-ff9b-d9aab936e654"
      },
      "source": [
        "# histogram of the age of respondents\n",
        "ax = sns.histplot(financial_df['age'])\n",
        "ax.set_title('Age distribution of respondents', fontsize = 16)\n",
        "ax.set_ylabel('Number of poeple')\n",
        "  "
      ],
      "execution_count": 93,
      "outputs": [
        {
          "output_type": "execute_result",
          "data": {
            "text/plain": [
              "Text(0, 0.5, 'Number of poeple')"
            ]
          },
          "metadata": {
            "tags": []
          },
          "execution_count": 93
        },
        {
          "output_type": "display_data",
          "data": {
            "image/png": "[encoded data removed]",
            "text/plain": [
              "<Figure size 432x288 with 1 Axes>"
            ]
          },
          "metadata": {
            "tags": [],
            "needs_background": "light"
          }
        }
      ]
    },
    {
      "cell_type": "code",
      "metadata": {
        "id": "mVlg4Osq_V3D"
      },
      "source": [
        ""
      ],
      "execution_count": 93,
      "outputs": []
    },
    {
      "cell_type": "markdown",
      "metadata": {
        "id": "DzrI11sYDccS"
      },
      "source": [
        "## Bivariate Analysis"
      ]
    },
    {
      "cell_type": "code",
      "metadata": {
        "colab": {
          "base_uri": "https://localhost:8080/",
          "height": 296
        },
        "id": "exk_7r-KDiI9",
        "outputId": "ebef4065-b8f4-4791-f74a-d3078dfddb78"
      },
      "source": [
        "# Scatterplot \n",
        "# Relationship between age and bank account ownership\n",
        "financial_df.plot(x = 'age', y = 'household_size', kind='scatter')"
      ],
      "execution_count": 73,
      "outputs": [
        {
          "output_type": "execute_result",
          "data": {
            "text/plain": [
              "<matplotlib.axes._subplots.AxesSubplot at 0x7f74c4d396d0>"
            ]
          },
          "metadata": {
            "tags": []
          },
          "execution_count": 73
        },
        {
          "output_type": "display_data",
          "data": {
            "image/png": "[encoded data removed]",
            "text/plain": [
              "<Figure size 432x288 with 1 Axes>"
            ]
          },
          "metadata": {
            "tags": [],
            "needs_background": "light"
          }
        }
      ]
    },
    {
      "cell_type": "markdown",
      "metadata": {
        "id": "kJDZavtREhC9"
      },
      "source": [
        "There is no apparent relationship between the age of the respondents and the household size. "
      ]
    },
    {
      "cell_type": "code",
      "metadata": {
        "colab": {
          "base_uri": "https://localhost:8080/"
        },
        "id": "gvSMWuq1Duad",
        "outputId": "62384402-c045-4173-de3e-4defa7018f20"
      },
      "source": [
        "#Confirming for correlation\n",
        "financial_df[\"household_size\"].corr(financial_df[\"age\"])\n"
      ],
      "execution_count": 94,
      "outputs": [
        {
          "output_type": "execute_result",
          "data": {
            "text/plain": [
              "-0.11766108234848949"
            ]
          },
          "metadata": {
            "tags": []
          },
          "execution_count": 94
        }
      ]
    },
    {
      "cell_type": "markdown",
      "metadata": {
        "id": "ewpQqPlRGlf2"
      },
      "source": [
        "There is a weak negative correlation."
      ]
    },
    {
      "cell_type": "code",
      "metadata": {
        "colab": {
          "base_uri": "https://localhost:8080/",
          "height": 301
        },
        "id": "tQRriW4ZGjrw",
        "outputId": "10d7fd16-1ec8-487e-c12a-4d82c362ddee"
      },
      "source": [
        "#querying the correlation between age, household size of the respondent\n",
        "correlation = financial_df.corr()\n",
        "sns.heatmap(correlation, vmax=1, square=True,annot=True)\n",
        "\n",
        "plt.title('Correlation between different features', fontsize = 15)\n"
      ],
      "execution_count": 53,
      "outputs": [
        {
          "output_type": "execute_result",
          "data": {
            "text/plain": [
              "Text(0.5, 1.0, 'Correlation between different features')"
            ]
          },
          "metadata": {
            "tags": []
          },
          "execution_count": 53
        },
        {
          "output_type": "display_data",
          "data": {
            "image/png": "[encoded data removed]",
            "text/plain": [
              "<Figure size 432x288 with 2 Axes>"
            ]
          },
          "metadata": {
            "tags": [],
            "needs_background": "light"
          }
        }
      ]
    },
    {
      "cell_type": "markdown",
      "metadata": {
        "id": "TkAOExnbHQB2"
      },
      "source": [
        "There is no correlation"
      ]
    },
    {
      "cell_type": "code",
      "metadata": {
        "id": "JDa9VAmsG-mR"
      },
      "source": [
        ""
      ],
      "execution_count": 94,
      "outputs": []
    },
    {
      "cell_type": "code",
      "metadata": {
        "colab": {
          "base_uri": "https://localhost:8080/",
          "height": 301
        },
        "id": "RS9dL1zSIE0M",
        "outputId": "cc9f1581-e39e-410e-efe6-bb9ec4449d04"
      },
      "source": [
        "# The percentage of people with bank accounts vs the people with phone access. \n",
        "\n",
        "axe = pd.crosstab(financial_df['cell_phone_access'],financial_df['account_holder'])\n",
        "axe.div(axe.sum(1).astype(float), axis=0).plot(kind='bar', stacked=True)\n",
        "plt.title('Bar Chart of Phone Acess vs Account Holders')\n",
        "plt.xlabel('Bank Account Holder')\n",
        "plt.ylabel('Percentage of Respondents')\n",
        "plt.legend(loc = 0)\n",
        "plt.show()"
      ],
      "execution_count": 54,
      "outputs": [
        {
          "output_type": "display_data",
          "data": {
            "image/png": "[encoded data removed]",
            "text/plain": [
              "<Figure size 432x288 with 1 Axes>"
            ]
          },
          "metadata": {
            "tags": [],
            "needs_background": "light"
          }
        }
      ]
    },
    {
      "cell_type": "code",
      "metadata": {
        "colab": {
          "base_uri": "https://localhost:8080/",
          "height": 316
        },
        "id": "V-SmQ8KuJldm",
        "outputId": "265556b2-2572-410f-8085-e1d717ca11f3"
      },
      "source": [
        "#  Stacked bar chart of type of location and ownership of a bank account \n",
        "\n",
        "table=pd.crosstab(financial_df['location_type'],financial_df['account_holder'])\n",
        "table.div(table.sum(1).astype(float), axis=0).plot(kind='bar', stacked=True)\n",
        "plt.title('Bar Chart of location vs Percentage of Account Holders')\n",
        "plt.xlabel('Location')\n",
        "plt.ylabel('Percentage of Respondents')\n",
        "plt.legend(loc = 0)\n",
        "plt.show()"
      ],
      "execution_count": 55,
      "outputs": [
        {
          "output_type": "display_data",
          "data": {
            "image/png": "[encoded data removed]",
            "text/plain": [
              "<Figure size 432x288 with 1 Axes>"
            ]
          },
          "metadata": {
            "tags": [],
            "needs_background": "light"
          }
        }
      ]
    },
    {
      "cell_type": "code",
      "metadata": {
        "colab": {
          "base_uri": "https://localhost:8080/",
          "height": 292
        },
        "id": "vHbpwHt4QNvD",
        "outputId": "95ec7035-ce44-4981-80bc-bb0e46cc8194"
      },
      "source": [
        "# the percentage of people with bank accounts and their level of education \n",
        "\n",
        "edc_table=pd.crosstab(financial_df['education_level'],financial_df['account_holder'])\n",
        "edc_table.div(edc_table.sum(1).astype(float), axis=0).plot(kind='bar', stacked=True)\n",
        "plt.title('Stacked Bar Chart of level of education and ownership of a bank account')\n",
        "plt.xlabel('Education Level')\n",
        "plt.ylabel('Percentage of Respondents')\n",
        "plt.legend(loc = 0)\n",
        "plt.show()\n"
      ],
      "execution_count": 99,
      "outputs": [
        {
          "output_type": "display_data",
          "data": {
            "image/png": "[encoded data removed]",
            "text/plain": [
              "<Figure size 432x288 with 1 Axes>"
            ]
          },
          "metadata": {
            "tags": [],
            "needs_background": "light"
          }
        }
      ]
    },
    {
      "cell_type": "markdown",
      "metadata": {
        "id": "pp-aqiUoY3KT"
      },
      "source": [
        "Those with no formal education have the highest proportion of respondents without a bank account. The people who have attended vocational/specialized training have the most number of people with bank accounts. They are follewd closely by those with tertiaty edducation.\n",
        "\n",
        "\n",
        "From the stacked bar greapgh above it is clear to see that the level of education influences the decision to open a bank account. "
      ]
    },
    {
      "cell_type": "markdown",
      "metadata": {
        "id": "D7btsnS0OKDt"
      },
      "source": [
        "## Multivariate Analysis "
      ]
    },
    {
      "cell_type": "markdown",
      "metadata": {
        "id": "b2CsQIypb92a"
      },
      "source": [
        "For the multivariate Analysis I will use the Principal Component Analysis as a dimensinality reduction tool. There are various steps to using the PCA as a tool. "
      ]
    },
    {
      "cell_type": "code",
      "metadata": {
        "colab": {
          "base_uri": "https://localhost:8080/",
          "height": 206
        },
        "id": "zl3gieencICd",
        "outputId": "f55dd2bb-2790-497b-9ada-e989f404ed76"
      },
      "source": [
        "\n",
        "# financial_df.columns\n",
        "from sklearn.preprocessing import LabelEncoder\n",
        "\n",
        "cols = ['country','location_type', 'account_holder', 'cell_phone_access', 'gender', 'relationship_with_head', 'marital_status',\n",
        "       'education_level', 'job'  ]\n",
        "#\n",
        "# Encode labels of multiple columns at once\n",
        "#\n",
        "financial_df[cols]= financial_df[cols].apply(LabelEncoder().fit_transform)\n",
        "#\n",
        "# Print head\n",
        "#\n",
        "financial_df.head()"
      ],
      "execution_count": 100,
      "outputs": [
        {
          "output_type": "execute_result",
          "data": {
            "text/html": [
              "<div>\n",
              "<style scoped>\n",
              "    .dataframe tbody tr th:only-of-type {\n",
              "        vertical-align: middle;\n",
              "    }\n",
              "\n",
              "    .dataframe tbody tr th {\n",
              "        vertical-align: top;\n",
              "    }\n",
              "\n",
              "    .dataframe thead th {\n",
              "        text-align: right;\n",
              "    }\n",
              "</style>\n",
              "<table border=\"1\" class=\"dataframe\">\n",
              "  <thead>\n",
              "    <tr style=\"text-align: right;\">\n",
              "      <th></th>\n",
              "      <th>country</th>\n",
              "      <th>year</th>\n",
              "      <th>account_holder</th>\n",
              "      <th>location_type</th>\n",
              "      <th>cell_phone_access</th>\n",
              "      <th>household_size</th>\n",
              "      <th>age</th>\n",
              "      <th>gender</th>\n",
              "      <th>relationship_with_head</th>\n",
              "      <th>marital_status</th>\n",
              "      <th>education_level</th>\n",
              "      <th>job</th>\n",
              "    </tr>\n",
              "  </thead>\n",
              "  <tbody>\n",
              "    <tr>\n",
              "      <th>0</th>\n",
              "      <td>0</td>\n",
              "      <td>2018-01-01</td>\n",
              "      <td>1</td>\n",
              "      <td>0</td>\n",
              "      <td>1</td>\n",
              "      <td>3.0</td>\n",
              "      <td>24.0</td>\n",
              "      <td>0</td>\n",
              "      <td>5</td>\n",
              "      <td>2</td>\n",
              "      <td>3</td>\n",
              "      <td>9</td>\n",
              "    </tr>\n",
              "    <tr>\n",
              "      <th>1</th>\n",
              "      <td>0</td>\n",
              "      <td>2018-01-01</td>\n",
              "      <td>0</td>\n",
              "      <td>0</td>\n",
              "      <td>0</td>\n",
              "      <td>5.0</td>\n",
              "      <td>70.0</td>\n",
              "      <td>0</td>\n",
              "      <td>1</td>\n",
              "      <td>4</td>\n",
              "      <td>0</td>\n",
              "      <td>4</td>\n",
              "    </tr>\n",
              "    <tr>\n",
              "      <th>2</th>\n",
              "      <td>0</td>\n",
              "      <td>2018-01-01</td>\n",
              "      <td>1</td>\n",
              "      <td>1</td>\n",
              "      <td>1</td>\n",
              "      <td>5.0</td>\n",
              "      <td>26.0</td>\n",
              "      <td>1</td>\n",
              "      <td>3</td>\n",
              "      <td>3</td>\n",
              "      <td>5</td>\n",
              "      <td>9</td>\n",
              "    </tr>\n",
              "    <tr>\n",
              "      <th>3</th>\n",
              "      <td>0</td>\n",
              "      <td>2018-01-01</td>\n",
              "      <td>0</td>\n",
              "      <td>0</td>\n",
              "      <td>1</td>\n",
              "      <td>5.0</td>\n",
              "      <td>34.0</td>\n",
              "      <td>0</td>\n",
              "      <td>1</td>\n",
              "      <td>2</td>\n",
              "      <td>2</td>\n",
              "      <td>3</td>\n",
              "    </tr>\n",
              "    <tr>\n",
              "      <th>4</th>\n",
              "      <td>0</td>\n",
              "      <td>2018-01-01</td>\n",
              "      <td>0</td>\n",
              "      <td>1</td>\n",
              "      <td>0</td>\n",
              "      <td>8.0</td>\n",
              "      <td>26.0</td>\n",
              "      <td>1</td>\n",
              "      <td>0</td>\n",
              "      <td>3</td>\n",
              "      <td>2</td>\n",
              "      <td>5</td>\n",
              "    </tr>\n",
              "  </tbody>\n",
              "</table>\n",
              "</div>"
            ],
            "text/plain": [
              "   country       year  account_holder  ...  marital_status  education_level  job\n",
              "0        0 2018-01-01               1  ...               2                3    9\n",
              "1        0 2018-01-01               0  ...               4                0    4\n",
              "2        0 2018-01-01               1  ...               3                5    9\n",
              "3        0 2018-01-01               0  ...               2                2    3\n",
              "4        0 2018-01-01               0  ...               3                2    5\n",
              "\n",
              "[5 rows x 12 columns]"
            ]
          },
          "metadata": {
            "tags": []
          },
          "execution_count": 100
        }
      ]
    },
    {
      "cell_type": "code",
      "metadata": {
        "id": "x222Q9XTcI1Y"
      },
      "source": [
        "# Preprocessing the data\n",
        "\n",
        "X = financial_df.drop('year', 1)\n",
        "y = financial_df['cell_phone_access']"
      ],
      "execution_count": 101,
      "outputs": []
    },
    {
      "cell_type": "code",
      "metadata": {
        "id": "1VZ-64R-cIvh"
      },
      "source": [
        "# spliting and testing\n",
        "from sklearn.model_selection import train_test_split\n",
        "\n",
        "X_train, X_test, y_train, y_test = train_test_split(X, y, test_size=0.2, random_state=0)"
      ],
      "execution_count": 102,
      "outputs": []
    },
    {
      "cell_type": "code",
      "metadata": {
        "id": "Ldw5X7PqcIsG"
      },
      "source": [
        "from sklearn.preprocessing import StandardScaler\n",
        "\n",
        "sc = StandardScaler()\n",
        "X_train = sc.fit_transform(X_train)\n",
        "X_test = sc.transform(X_test)"
      ],
      "execution_count": 103,
      "outputs": []
    },
    {
      "cell_type": "code",
      "metadata": {
        "id": "oMb6jnl3cIjP"
      },
      "source": [
        "from sklearn.decomposition import PCA\n",
        "\n",
        "pca = PCA()\n",
        "X_train = pca.fit_transform(X_train)\n",
        "X_test = pca.transform(X_test)"
      ],
      "execution_count": 71,
      "outputs": []
    },
    {
      "cell_type": "code",
      "metadata": {
        "colab": {
          "base_uri": "https://localhost:8080/"
        },
        "id": "zuQ60HUkd3bQ",
        "outputId": "f34f4b2a-598a-4e5d-b667-955a5fb99199"
      },
      "source": [
        "\n",
        "# Explained Variance Ratio\n",
        "\n",
        "explained_variance = pca.explained_variance_ratio_\n",
        "\n",
        "\n",
        "explained_variance"
      ],
      "execution_count": 104,
      "outputs": [
        {
          "output_type": "execute_result",
          "data": {
            "text/plain": [
              "array([0.52974203, 0.47025797])"
            ]
          },
          "metadata": {
            "tags": []
          },
          "execution_count": 104
        }
      ]
    },
    {
      "cell_type": "markdown",
      "metadata": {
        "id": "Tchrgbfwfxp7"
      },
      "source": [
        "The first principal component is responsible for 17.95% variance. \n",
        "The second principal component causes 15.77% variance in the dataset.\n",
        "\n",
        " 58.15% of the classification information contained  in the feature set is captured by the first four principal components."
      ]
    },
    {
      "cell_type": "code",
      "metadata": {
        "id": "PVkSPNN3fw8a"
      },
      "source": [
        "# therefore we can train the data set with up to 4 principal components"
      ],
      "execution_count": 105,
      "outputs": []
    },
    {
      "cell_type": "code",
      "metadata": {
        "id": "ognZyH16d3C6"
      },
      "source": [
        "#  Using 1 principal component to train our algorithm.\n",
        "\n",
        "from sklearn.decomposition import PCA\n",
        "\n",
        "pca = PCA(n_components=1)\n",
        "X_train = pca.fit_transform(X_train)\n",
        "X_test = pca.transform(X_test)"
      ],
      "execution_count": 106,
      "outputs": []
    },
    {
      "cell_type": "code",
      "metadata": {
        "id": "86Fp4lHed2_x"
      },
      "source": [
        "# Step 7: Training and Making Predictions\n",
        "\n",
        "from sklearn.ensemble import RandomForestClassifier\n",
        "\n",
        "classifier = RandomForestClassifier(max_depth=2, random_state=0)\n",
        "classifier.fit(X_train, y_train)\n",
        "\n",
        "# Predicting the Test set results\n",
        "y_pred = classifier.predict(X_test)"
      ],
      "execution_count": 66,
      "outputs": []
    },
    {
      "cell_type": "code",
      "metadata": {
        "colab": {
          "base_uri": "https://localhost:8080/"
        },
        "id": "M8tAXpgfeO5T",
        "outputId": "c7c44163-c30a-4c66-c78f-b91e40a39f95"
      },
      "source": [
        "# Step 8: Performance Evaluation\n",
        "# \n",
        "from sklearn.metrics import confusion_matrix\n",
        "from sklearn.metrics import accuracy_score\n",
        "\n",
        "cm = confusion_matrix(y_test, y_pred)\n",
        "print(cm)\n",
        "print('Accuracy' , accuracy_score(y_test, y_pred))\n",
        "\n"
      ],
      "execution_count": 109,
      "outputs": [
        {
          "output_type": "stream",
          "text": [
            "[[ 472  717]\n",
            " [  63 3409]]\n",
            "Accuracy 0.832653936923407\n"
          ],
          "name": "stdout"
        }
      ]
    },
    {
      "cell_type": "markdown",
      "metadata": {
        "id": "n9m0DvrJhuYH"
      },
      "source": [
        "The output with only one component resulted in 82.3% accuracy"
      ]
    },
    {
      "cell_type": "code",
      "metadata": {
        "colab": {
          "base_uri": "https://localhost:8080/"
        },
        "id": "2rRg_0i-eO1u",
        "outputId": "c0ba3a90-0183-48fe-9820-087073d3facc"
      },
      "source": [
        "\n",
        "# Preprocessing\n",
        "\n",
        "X = financial_df.drop('year', 1)\n",
        "y = financial_df['cell_phone_access']\n",
        "\n",
        "# Splitting the dataset into the Training set and Test set\n",
        "\n",
        "from sklearn.model_selection import train_test_split\n",
        "\n",
        "X_train, X_test, y_train, y_test = train_test_split(X, y, test_size=0.2, random_state=0)\n",
        "\n",
        "# Normalization\n",
        "\n",
        "from sklearn.preprocessing import StandardScaler\n",
        "\n",
        "sc = StandardScaler()\n",
        "X_train = sc.fit_transform(X_train)\n",
        "X_test = sc.transform(X_test)\n",
        "\n",
        "# Applying PCA\n",
        "\n",
        "from sklearn.decomposition import PCA\n",
        "\n",
        "pca = PCA()\n",
        "X_train = pca.fit_transform(X_train)\n",
        "X_test = pca.transform(X_test)\n",
        "\n",
        "# Explained Variance Ratio\n",
        "\n",
        "explained_variance = pca.explained_variance_ratio_\n",
        "\n",
        "explained_variance\n",
        "\n",
        "# Using 2 principal components to train our algorithm.\n",
        "\n",
        "from sklearn.decomposition import PCA\n",
        "\n",
        "pca = PCA(n_components=2)\n",
        "X_train = pca.fit_transform(X_train)\n",
        "X_test = pca.transform(X_test)\n",
        "\n",
        "# Training and Making Predictions\n",
        "\n",
        "from sklearn.ensemble import RandomForestClassifier\n",
        "\n",
        "classifier = RandomForestClassifier(max_depth=2, random_state=0)\n",
        "classifier.fit(X_train, y_train)\n",
        "\n",
        "# Predicting the Test set results\n",
        "y_pred = classifier.predict(X_test)\n",
        "\n",
        "# Performance Evaluation \n",
        "from sklearn.metrics import confusion_matrix\n",
        "from sklearn.metrics import accuracy_score\n",
        "\n",
        "cm = confusion_matrix(y_test, y_pred)\n",
        "print(cm)\n",
        "print('Accuracy' , accuracy_score(y_test, y_pred))\n",
        "\n"
      ],
      "execution_count": 68,
      "outputs": [
        {
          "output_type": "stream",
          "text": [
            "[[ 472  717]\n",
            " [  63 3409]]\n",
            "Accuracy 0.832653936923407\n"
          ],
          "name": "stdout"
        }
      ]
    },
    {
      "cell_type": "markdown",
      "metadata": {
        "id": "CG-rWRx5ia6E"
      },
      "source": [
        "The output with 2 components resulted in 83.2% accuracy as compared to the 82.3% accuracy under 1 component"
      ]
    },
    {
      "cell_type": "code",
      "metadata": {
        "colab": {
          "base_uri": "https://localhost:8080/"
        },
        "id": "BEbTVcdLeOy3",
        "outputId": "4b11ce5d-ced2-4ab1-d39d-72e5b16fdf3c"
      },
      "source": [
        "\n",
        "# Preprocessing\n",
        "\n",
        "X = financial_df.drop('year', 1)\n",
        "y = financial_df['cell_phone_access']\n",
        "\n",
        "# Splitting the dataset into the Training set and Test set\n",
        "\n",
        "from sklearn.model_selection import train_test_split\n",
        "\n",
        "X_train, X_test, y_train, y_test = train_test_split(X, y, test_size=0.2, random_state=0)\n",
        "\n",
        "# Normalization\n",
        "\n",
        "from sklearn.preprocessing import StandardScaler\n",
        "\n",
        "sc = StandardScaler()\n",
        "X_train = sc.fit_transform(X_train)\n",
        "X_test = sc.transform(X_test)\n",
        "\n",
        "# Applying PCA\n",
        "\n",
        "from sklearn.decomposition import PCA\n",
        "\n",
        "pca = PCA()\n",
        "X_train = pca.fit_transform(X_train)\n",
        "X_test = pca.transform(X_test)\n",
        "\n",
        "# Explained Variance Ratio\n",
        "\n",
        "explained_variance = pca.explained_variance_ratio_\n",
        "\n",
        "explained_variance\n",
        "\n",
        "# Using 2 principal components to train our algorithm.\n",
        "\n",
        "from sklearn.decomposition import PCA\n",
        "\n",
        "pca = PCA(n_components=2)\n",
        "X_train = pca.fit_transform(X_train)\n",
        "X_test = pca.transform(X_test)\n",
        "\n",
        "# Training and Making Predictions\n",
        "\n",
        "from sklearn.ensemble import RandomForestClassifier\n",
        "\n",
        "classifier = RandomForestClassifier(max_depth=2, random_state=0)\n",
        "classifier.fit(X_train, y_train)\n",
        "\n",
        "# Predicting the Test set results\n",
        "y_pred = classifier.predict(X_test)\n",
        "\n",
        "# Performance Evaluation \n",
        "from sklearn.metrics import confusion_matrix\n",
        "from sklearn.metrics import accuracy_score\n",
        "\n",
        "cm = confusion_matrix(y_test, y_pred)\n",
        "print(cm)\n",
        "print('Accuracy' , accuracy_score(y_test, y_pred))\n",
        "\n"
      ],
      "execution_count": 69,
      "outputs": [
        {
          "output_type": "stream",
          "text": [
            "[[ 472  717]\n",
            " [  63 3409]]\n",
            "Accuracy 0.832653936923407\n"
          ],
          "name": "stdout"
        }
      ]
    },
    {
      "cell_type": "markdown",
      "metadata": {
        "id": "qDzafzd2h-FS"
      },
      "source": [
        "The output with 2 components resulted in 83.2% accuracy as compared to the 82.2% accuracy under 1 component"
      ]
    },
    {
      "cell_type": "markdown",
      "metadata": {
        "id": "ZuNcJFjCe7RF"
      },
      "source": [
        "# Recommendations for effectively performing multivariate analysis "
      ]
    },
    {
      "cell_type": "markdown",
      "metadata": {
        "id": "ONnyyZbWfBka"
      },
      "source": [
        "\n",
        "In order to build an accurate model, the dimensions of the dataset should be reduced. Factor Analysis, Linear Discriminant Analysis and Principal component analysis can be used to do this. These three techniques will help us determine which variables with be most important in order to build our model later. With the currrent data the reduction tool used is PCA."
      ]
    },
    {
      "cell_type": "code",
      "metadata": {
        "id": "CJTDsATceOvu"
      },
      "source": [
        ""
      ],
      "execution_count": 109,
      "outputs": []
    },
    {
      "cell_type": "markdown",
      "metadata": {
        "id": "mt9oWcQ2gWx-"
      },
      "source": [
        "# Implimenting the solution\n"
      ]
    },
    {
      "cell_type": "code",
      "metadata": {
        "colab": {
          "base_uri": "https://localhost:8080/",
          "height": 279
        },
        "id": "996y5kyjeOtT",
        "outputId": "d967f726-df0e-4db6-efc8-02337ce6bea2"
      },
      "source": [
        "# plotting a Scree plot of cumulative explained variance vs number of components. \n",
        "\n",
        "#Explained variance\n",
        "pca = PCA().fit(X_train)\n",
        "plt.plot(np.cumsum(pca.explained_variance_ratio_))\n",
        "plt.xlabel('number of components')\n",
        "plt.ylabel('cumulative explained variance')\n",
        "plt.show()"
      ],
      "execution_count": 70,
      "outputs": [
        {
          "output_type": "display_data",
          "data": {
            "image/png": "[encoded data removed]",
            "text/plain": [
              "<Figure size 432x288 with 1 Axes>"
            ]
          },
          "metadata": {
            "tags": [],
            "needs_background": "light"
          }
        }
      ]
    },
    {
      "cell_type": "markdown",
      "metadata": {
        "id": "pyHXLp94ggn8"
      },
      "source": [
        "\n",
        "The accuracy and the variance have a positive corelation with the number of components. The optimal number of principal components is four according to the scree plot.\n",
        "\n",
        "The features in those principal components will offer the best description of the dependent variable."
      ]
    },
    {
      "cell_type": "code",
      "metadata": {
        "id": "dIDFCO3teOcy"
      },
      "source": [
        ""
      ],
      "execution_count": null,
      "outputs": []
    },
    {
      "cell_type": "code",
      "metadata": {
        "id": "qyTu8Wy4eOaF"
      },
      "source": [
        ""
      ],
      "execution_count": null,
      "outputs": []
    }
  ]
}