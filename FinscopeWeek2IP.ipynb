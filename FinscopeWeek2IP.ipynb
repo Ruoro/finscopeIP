{
  "nbformat": 4,
  "nbformat_minor": 0,
  "metadata": {
    "colab": {
      "name": "FinscopeWeek2IP.ipynb",
      "provenance": [],
      "toc_visible": true,
      "authorship_tag": "ABX9TyOMrYGhr2S4+SXO8e9ksHq4"
    },
    "kernelspec": {
      "name": "python3",
      "display_name": "Python 3"
    },
    "language_info": {
      "name": "python"
    }
  },
  "cells": [
    {
      "cell_type": "code",
      "metadata": {
        "id": "i3Rg2L_PKLUq"
      },
      "source": [
        "# Variable Definitions: http://bit.ly/VariableDefinitions \n",
        "# Dataset: http://bit.ly/FinancialDataset "
      ],
      "execution_count": 1,
      "outputs": []
    },
    {
      "cell_type": "markdown",
      "metadata": {
        "id": "4xEe4s6OShae"
      },
      "source": [
        "# FINSCOPE PROJECT"
      ]
    },
    {
      "cell_type": "markdown",
      "metadata": {
        "id": "94RGYxsCTMUU"
      },
      "source": [
        "## Data Understanding \n",
        " Defining the Question \n",
        " \n",
        "a) Specifying the Data Analytic Question\n"
      ]
    },
    {
      "cell_type": "markdown",
      "metadata": {
        "id": "haIdSmyFT4Cl"
      },
      "source": [
        "How to predict which individials are likely to have or use a bank account?"
      ]
    },
    {
      "cell_type": "markdown",
      "metadata": {
        "id": "1TtK8D8OTlDH"
      },
      "source": [
        "b) Defining the Metric for Success\n",
        "\n"
      ]
    },
    {
      "cell_type": "markdown",
      "metadata": {
        "id": "seL7S8qATvoX"
      },
      "source": [
        "c) Understanding the context"
      ]
    },
    {
      "cell_type": "markdown",
      "metadata": {
        "id": "ylTGCGzeSpau"
      },
      "source": [
        "# 1.0 Importing Libraries"
      ]
    },
    {
      "cell_type": "code",
      "metadata": {
        "colab": {
          "base_uri": "https://localhost:8080/"
        },
        "id": "1GANmnc6S99m",
        "outputId": "ab11944e-8710-4201-f4ad-3dd614a8494a"
      },
      "source": [
        "import pandas as pd\n",
        "import numpy as np\n",
        "import seaborn as sns\n",
        "import matplotlib.pyplot as plt\n",
        "\n",
        "print (\"Libraries Imported Successfully\")"
      ],
      "execution_count": 2,
      "outputs": [
        {
          "output_type": "stream",
          "text": [
            "Libraries Imported Successfully\n"
          ],
          "name": "stdout"
        }
      ]
    },
    {
      "cell_type": "markdown",
      "metadata": {
        "id": "Nvd_67XkFhxw"
      },
      "source": [
        "# Load the Dataset."
      ]
    },
    {
      "cell_type": "markdown",
      "metadata": {
        "id": "UmjbvVdmFgeE"
      },
      "source": [
        "There are two datasets that we have been given to work on. The first is the financial data and the socind one is the description."
      ]
    },
    {
      "cell_type": "code",
      "metadata": {
        "id": "1llBzz0yTGbp"
      },
      "source": [
        "# First Dataset\n",
        "Dataset = 'http://bit.ly/FinancialDataset' \n",
        "financial_df = pd.read_csv(Dataset)\n",
        "\n",
        "# Second Dataset\n",
        "Variable  =  'http://bit.ly/VariableDefinitions'\n",
        "variable_definitions = pd.read_csv(Variable)"
      ],
      "execution_count": 3,
      "outputs": []
    },
    {
      "cell_type": "code",
      "metadata": {
        "colab": {
          "base_uri": "https://localhost:8080/",
          "height": 345
        },
        "id": "qepilNCLGmwP",
        "outputId": "ba6fe418-7032-45bb-9d2b-e01a83a8a1a5"
      },
      "source": [
        "# Preview the first Dataset\n",
        "financial_df.head()"
      ],
      "execution_count": 4,
      "outputs": [
        {
          "output_type": "execute_result",
          "data": {
            "text/html": [
              "<div>\n",
              "<style scoped>\n",
              "    .dataframe tbody tr th:only-of-type {\n",
              "        vertical-align: middle;\n",
              "    }\n",
              "\n",
              "    .dataframe tbody tr th {\n",
              "        vertical-align: top;\n",
              "    }\n",
              "\n",
              "    .dataframe thead th {\n",
              "        text-align: right;\n",
              "    }\n",
              "</style>\n",
              "<table border=\"1\" class=\"dataframe\">\n",
              "  <thead>\n",
              "    <tr style=\"text-align: right;\">\n",
              "      <th></th>\n",
              "      <th>country</th>\n",
              "      <th>year</th>\n",
              "      <th>uniqueid</th>\n",
              "      <th>Has a Bank account</th>\n",
              "      <th>Type of Location</th>\n",
              "      <th>Cell Phone Access</th>\n",
              "      <th>household_size</th>\n",
              "      <th>Respondent Age</th>\n",
              "      <th>gender_of_respondent</th>\n",
              "      <th>The relathip with head</th>\n",
              "      <th>marital_status</th>\n",
              "      <th>Level of Educuation</th>\n",
              "      <th>Type of Job</th>\n",
              "    </tr>\n",
              "  </thead>\n",
              "  <tbody>\n",
              "    <tr>\n",
              "      <th>0</th>\n",
              "      <td>Kenya</td>\n",
              "      <td>2018</td>\n",
              "      <td>uniqueid_1</td>\n",
              "      <td>Yes</td>\n",
              "      <td>Rural</td>\n",
              "      <td>Yes</td>\n",
              "      <td>3.0</td>\n",
              "      <td>24.0</td>\n",
              "      <td>Female</td>\n",
              "      <td>Spouse</td>\n",
              "      <td>Married/Living together</td>\n",
              "      <td>Secondary education</td>\n",
              "      <td>Self employed</td>\n",
              "    </tr>\n",
              "    <tr>\n",
              "      <th>1</th>\n",
              "      <td>Kenya</td>\n",
              "      <td>2018</td>\n",
              "      <td>uniqueid_2</td>\n",
              "      <td>No</td>\n",
              "      <td>Rural</td>\n",
              "      <td>No</td>\n",
              "      <td>5.0</td>\n",
              "      <td>70.0</td>\n",
              "      <td>Female</td>\n",
              "      <td>Head of Household</td>\n",
              "      <td>Widowed</td>\n",
              "      <td>No formal education</td>\n",
              "      <td>Government Dependent</td>\n",
              "    </tr>\n",
              "    <tr>\n",
              "      <th>2</th>\n",
              "      <td>Kenya</td>\n",
              "      <td>2018</td>\n",
              "      <td>uniqueid_3</td>\n",
              "      <td>Yes</td>\n",
              "      <td>Urban</td>\n",
              "      <td>Yes</td>\n",
              "      <td>5.0</td>\n",
              "      <td>26.0</td>\n",
              "      <td>Male</td>\n",
              "      <td>Other relative</td>\n",
              "      <td>Single/Never Married</td>\n",
              "      <td>Vocational/Specialised training</td>\n",
              "      <td>Self employed</td>\n",
              "    </tr>\n",
              "    <tr>\n",
              "      <th>3</th>\n",
              "      <td>Kenya</td>\n",
              "      <td>2018</td>\n",
              "      <td>uniqueid_4</td>\n",
              "      <td>No</td>\n",
              "      <td>Rural</td>\n",
              "      <td>Yes</td>\n",
              "      <td>5.0</td>\n",
              "      <td>34.0</td>\n",
              "      <td>Female</td>\n",
              "      <td>Head of Household</td>\n",
              "      <td>Married/Living together</td>\n",
              "      <td>Primary education</td>\n",
              "      <td>Formally employed Private</td>\n",
              "    </tr>\n",
              "    <tr>\n",
              "      <th>4</th>\n",
              "      <td>Kenya</td>\n",
              "      <td>2018</td>\n",
              "      <td>uniqueid_5</td>\n",
              "      <td>No</td>\n",
              "      <td>Urban</td>\n",
              "      <td>No</td>\n",
              "      <td>8.0</td>\n",
              "      <td>26.0</td>\n",
              "      <td>Male</td>\n",
              "      <td>Child</td>\n",
              "      <td>Single/Never Married</td>\n",
              "      <td>Primary education</td>\n",
              "      <td>Informally employed</td>\n",
              "    </tr>\n",
              "  </tbody>\n",
              "</table>\n",
              "</div>"
            ],
            "text/plain": [
              "  country  year  ...              Level of Educuation                Type of Job\n",
              "0   Kenya  2018  ...              Secondary education              Self employed\n",
              "1   Kenya  2018  ...              No formal education       Government Dependent\n",
              "2   Kenya  2018  ...  Vocational/Specialised training              Self employed\n",
              "3   Kenya  2018  ...                Primary education  Formally employed Private\n",
              "4   Kenya  2018  ...                Primary education        Informally employed\n",
              "\n",
              "[5 rows x 13 columns]"
            ]
          },
          "metadata": {
            "tags": []
          },
          "execution_count": 4
        }
      ]
    },
    {
      "cell_type": "code",
      "metadata": {
        "colab": {
          "base_uri": "https://localhost:8080/",
          "height": 425
        },
        "id": "SNjrgX5PGzXI",
        "outputId": "1470e669-a9b8-463b-c5fd-17289668d2a1"
      },
      "source": [
        "# Preview the second database\n",
        "variable_definitions"
      ],
      "execution_count": 5,
      "outputs": [
        {
          "output_type": "execute_result",
          "data": {
            "text/html": [
              "<div>\n",
              "<style scoped>\n",
              "    .dataframe tbody tr th:only-of-type {\n",
              "        vertical-align: middle;\n",
              "    }\n",
              "\n",
              "    .dataframe tbody tr th {\n",
              "        vertical-align: top;\n",
              "    }\n",
              "\n",
              "    .dataframe thead th {\n",
              "        text-align: right;\n",
              "    }\n",
              "</style>\n",
              "<table border=\"1\" class=\"dataframe\">\n",
              "  <thead>\n",
              "    <tr style=\"text-align: right;\">\n",
              "      <th></th>\n",
              "      <th>Variable Definitions</th>\n",
              "      <th>Unnamed: 1</th>\n",
              "    </tr>\n",
              "  </thead>\n",
              "  <tbody>\n",
              "    <tr>\n",
              "      <th>0</th>\n",
              "      <td>country</td>\n",
              "      <td>Country interviewee is in.</td>\n",
              "    </tr>\n",
              "    <tr>\n",
              "      <th>1</th>\n",
              "      <td>year</td>\n",
              "      <td>Year survey was done in.</td>\n",
              "    </tr>\n",
              "    <tr>\n",
              "      <th>2</th>\n",
              "      <td>uniqueid</td>\n",
              "      <td>Unique identifier for each interviewee</td>\n",
              "    </tr>\n",
              "    <tr>\n",
              "      <th>3</th>\n",
              "      <td>location_type</td>\n",
              "      <td>Type of location: Rural, Urban</td>\n",
              "    </tr>\n",
              "    <tr>\n",
              "      <th>4</th>\n",
              "      <td>cellphone_access</td>\n",
              "      <td>If interviewee has access to a cellphone: Yes, No</td>\n",
              "    </tr>\n",
              "    <tr>\n",
              "      <th>5</th>\n",
              "      <td>household_size</td>\n",
              "      <td>Number of people living in one house</td>\n",
              "    </tr>\n",
              "    <tr>\n",
              "      <th>6</th>\n",
              "      <td>age_of_respondent</td>\n",
              "      <td>The age of the interviewee</td>\n",
              "    </tr>\n",
              "    <tr>\n",
              "      <th>7</th>\n",
              "      <td>gender_of_respondent</td>\n",
              "      <td>Gender of interviewee: Male, Female</td>\n",
              "    </tr>\n",
              "    <tr>\n",
              "      <th>8</th>\n",
              "      <td>relationship_with_head</td>\n",
              "      <td>The interviewee’s relationship with the head o...</td>\n",
              "    </tr>\n",
              "    <tr>\n",
              "      <th>9</th>\n",
              "      <td>marital_status</td>\n",
              "      <td>The martial status of the interviewee: Married...</td>\n",
              "    </tr>\n",
              "    <tr>\n",
              "      <th>10</th>\n",
              "      <td>education_level</td>\n",
              "      <td>Highest level of education: No formal educatio...</td>\n",
              "    </tr>\n",
              "    <tr>\n",
              "      <th>11</th>\n",
              "      <td>job_type</td>\n",
              "      <td>Type of job interviewee has: Farming and Fishi...</td>\n",
              "    </tr>\n",
              "  </tbody>\n",
              "</table>\n",
              "</div>"
            ],
            "text/plain": [
              "      Variable Definitions                                         Unnamed: 1\n",
              "0                  country                         Country interviewee is in.\n",
              "1                     year                           Year survey was done in.\n",
              "2                 uniqueid             Unique identifier for each interviewee\n",
              "3            location_type                     Type of location: Rural, Urban\n",
              "4         cellphone_access  If interviewee has access to a cellphone: Yes, No\n",
              "5           household_size               Number of people living in one house\n",
              "6        age_of_respondent                         The age of the interviewee\n",
              "7     gender_of_respondent                Gender of interviewee: Male, Female\n",
              "8   relationship_with_head  The interviewee’s relationship with the head o...\n",
              "9           marital_status  The martial status of the interviewee: Married...\n",
              "10         education_level  Highest level of education: No formal educatio...\n",
              "11                job_type  Type of job interviewee has: Farming and Fishi..."
            ]
          },
          "metadata": {
            "tags": []
          },
          "execution_count": 5
        }
      ]
    },
    {
      "cell_type": "code",
      "metadata": {
        "id": "u2zU6QP4G4vj",
        "colab": {
          "base_uri": "https://localhost:8080/"
        },
        "outputId": "45be470f-4ad4-4820-b836-099df4af677c"
      },
      "source": [
        "# Investigating the dataset\n",
        "financial_df.shape"
      ],
      "execution_count": 6,
      "outputs": [
        {
          "output_type": "execute_result",
          "data": {
            "text/plain": [
              "(23524, 13)"
            ]
          },
          "metadata": {
            "tags": []
          },
          "execution_count": 6
        }
      ]
    },
    {
      "cell_type": "code",
      "metadata": {
        "colab": {
          "base_uri": "https://localhost:8080/"
        },
        "id": "HteM8-dYh0qY",
        "outputId": "90742613-deb9-4b1d-e4fe-f7d533ec9f25"
      },
      "source": [
        "financial_df.info()"
      ],
      "execution_count": 7,
      "outputs": [
        {
          "output_type": "stream",
          "text": [
            "<class 'pandas.core.frame.DataFrame'>\n",
            "RangeIndex: 23524 entries, 0 to 23523\n",
            "Data columns (total 13 columns):\n",
            " #   Column                  Non-Null Count  Dtype  \n",
            "---  ------                  --------------  -----  \n",
            " 0   country                 23510 non-null  object \n",
            " 1   year                    23524 non-null  int64  \n",
            " 2   uniqueid                23524 non-null  object \n",
            " 3   Has a Bank account      23488 non-null  object \n",
            " 4   Type of Location        23509 non-null  object \n",
            " 5   Cell Phone Access       23513 non-null  object \n",
            " 6   household_size          23496 non-null  float64\n",
            " 7   Respondent Age          23490 non-null  float64\n",
            " 8   gender_of_respondent    23490 non-null  object \n",
            " 9   The relathip with head  23520 non-null  object \n",
            " 10  marital_status          23492 non-null  object \n",
            " 11  Level of Educuation     23495 non-null  object \n",
            " 12  Type of Job             23494 non-null  object \n",
            "dtypes: float64(2), int64(1), object(10)\n",
            "memory usage: 2.3+ MB\n"
          ],
          "name": "stdout"
        }
      ]
    },
    {
      "cell_type": "code",
      "metadata": {
        "colab": {
          "base_uri": "https://localhost:8080/"
        },
        "id": "Ppl8y5NFh6qC",
        "outputId": "cabeba65-7deb-47a6-81e1-e973fa683b68"
      },
      "source": [
        "# finding how much unique entries each field has\n",
        "print(financial_df.nunique())"
      ],
      "execution_count": 8,
      "outputs": [
        {
          "output_type": "stream",
          "text": [
            "country                      4\n",
            "year                         6\n",
            "uniqueid                  8735\n",
            "Has a Bank account           2\n",
            "Type of Location             2\n",
            "Cell Phone Access            2\n",
            "household_size              21\n",
            "Respondent Age              85\n",
            "gender_of_respondent         2\n",
            "The relathip with head       6\n",
            "marital_status               5\n",
            "Level of Educuation          7\n",
            "Type of Job                 10\n",
            "dtype: int64\n"
          ],
          "name": "stdout"
        }
      ]
    },
    {
      "cell_type": "markdown",
      "metadata": {
        "id": "RytSUCFjmDDJ"
      },
      "source": [
        "## Data Cleaning"
      ]
    },
    {
      "cell_type": "code",
      "metadata": {
        "id": "mXAPHmLUiOrS"
      },
      "source": [
        "# renaming columns\n",
        "financial_df.rename(columns = {\n",
        "    'Has a Bank account': 'account_holder',\n",
        "    'Type of Location': 'location_type',\n",
        "    'Cell Phone Access': 'cell_phone_access',\n",
        "    'Respondent Age': 'age',\n",
        "    'gender_of_respondent':'gender',\n",
        "     'The relathip with head': 'relationship_with_head',\n",
        "     'Level of Educuation': 'education_level',\n",
        "     'Type of Job': 'job'}, inplace = True)"
      ],
      "execution_count": 9,
      "outputs": []
    },
    {
      "cell_type": "code",
      "metadata": {
        "colab": {
          "base_uri": "https://localhost:8080/"
        },
        "id": "StzbTMtjmQqH",
        "outputId": "e14579e3-0758-4976-8ff7-25ac6ea5fb48"
      },
      "source": [
        "financial_df.columns"
      ],
      "execution_count": 10,
      "outputs": [
        {
          "output_type": "execute_result",
          "data": {
            "text/plain": [
              "Index(['country', 'year', 'uniqueid', 'account_holder', 'location_type',\n",
              "       'cell_phone_access', 'household_size', 'age', 'gender',\n",
              "       'relationship_with_head', 'marital_status', 'education_level', 'job'],\n",
              "      dtype='object')"
            ]
          },
          "metadata": {
            "tags": []
          },
          "execution_count": 10
        }
      ]
    },
    {
      "cell_type": "code",
      "metadata": {
        "colab": {
          "base_uri": "https://localhost:8080/"
        },
        "id": "og9ZfnMdryt3",
        "outputId": "03c5d9a7-34fa-4cd9-c673-0d18ddc2a751"
      },
      "source": [
        "financial_df.shape"
      ],
      "execution_count": 11,
      "outputs": [
        {
          "output_type": "execute_result",
          "data": {
            "text/plain": [
              "(23524, 13)"
            ]
          },
          "metadata": {
            "tags": []
          },
          "execution_count": 11
        }
      ]
    },
    {
      "cell_type": "code",
      "metadata": {
        "id": "8JX7ca3mKZNX"
      },
      "source": [
        "#droping the unique ID column\n",
        "financial_df.drop('uniqueid', axis = 1, inplace= True)"
      ],
      "execution_count": 12,
      "outputs": []
    },
    {
      "cell_type": "code",
      "metadata": {
        "colab": {
          "base_uri": "https://localhost:8080/"
        },
        "id": "awEMfIV5LEoE",
        "outputId": "cb5bc0a4-b628-4cef-ca21-d69fa48f791b"
      },
      "source": [
        "# check for missing values. \n",
        "financial_df.isna().sum()"
      ],
      "execution_count": 13,
      "outputs": [
        {
          "output_type": "execute_result",
          "data": {
            "text/plain": [
              "country                   14\n",
              "year                       0\n",
              "account_holder            36\n",
              "location_type             15\n",
              "cell_phone_access         11\n",
              "household_size            28\n",
              "age                       34\n",
              "gender                    34\n",
              "relationship_with_head     4\n",
              "marital_status            32\n",
              "education_level           29\n",
              "job                       30\n",
              "dtype: int64"
            ]
          },
          "metadata": {
            "tags": []
          },
          "execution_count": 13
        }
      ]
    },
    {
      "cell_type": "code",
      "metadata": {
        "colab": {
          "base_uri": "https://localhost:8080/"
        },
        "id": "rYUXERJNLN8J",
        "outputId": "369c555b-a7d7-4a1e-919c-2e6e71a631af"
      },
      "source": [
        "# drop all the rows with missing values\n",
        "financial_df.dropna(inplace = True)\n",
        "print('The null values have been dropped successfully')"
      ],
      "execution_count": 14,
      "outputs": [
        {
          "output_type": "stream",
          "text": [
            "The null values have been dropped successfully\n"
          ],
          "name": "stdout"
        }
      ]
    },
    {
      "cell_type": "code",
      "metadata": {
        "colab": {
          "base_uri": "https://localhost:8080/"
        },
        "id": "HPyMbupFLiYw",
        "outputId": "241cb01d-783c-4e08-8f7b-4d85880ef9e4"
      },
      "source": [
        "#confirm that there are no missing values\n",
        "financial_df.isna().sum()\n"
      ],
      "execution_count": 15,
      "outputs": [
        {
          "output_type": "execute_result",
          "data": {
            "text/plain": [
              "country                   0\n",
              "year                      0\n",
              "account_holder            0\n",
              "location_type             0\n",
              "cell_phone_access         0\n",
              "household_size            0\n",
              "age                       0\n",
              "gender                    0\n",
              "relationship_with_head    0\n",
              "marital_status            0\n",
              "education_level           0\n",
              "job                       0\n",
              "dtype: int64"
            ]
          },
          "metadata": {
            "tags": []
          },
          "execution_count": 15
        }
      ]
    },
    {
      "cell_type": "code",
      "metadata": {
        "colab": {
          "base_uri": "https://localhost:8080/"
        },
        "id": "3k6hGWIaLl-m",
        "outputId": "8b1b82f2-b406-4e90-8243-fc50f9ce5a6e"
      },
      "source": [
        "#check the data typpes\n",
        "financial_df.dtypes"
      ],
      "execution_count": 16,
      "outputs": [
        {
          "output_type": "execute_result",
          "data": {
            "text/plain": [
              "country                    object\n",
              "year                        int64\n",
              "account_holder             object\n",
              "location_type              object\n",
              "cell_phone_access          object\n",
              "household_size            float64\n",
              "age                       float64\n",
              "gender                     object\n",
              "relationship_with_head     object\n",
              "marital_status             object\n",
              "education_level            object\n",
              "job                        object\n",
              "dtype: object"
            ]
          },
          "metadata": {
            "tags": []
          },
          "execution_count": 16
        }
      ]
    },
    {
      "cell_type": "markdown",
      "metadata": {
        "id": "xqTyeV9KLz9o"
      },
      "source": [
        "The year column should be  datetime column. \n",
        "Converting the column to date and time should be the next step"
      ]
    },
    {
      "cell_type": "code",
      "metadata": {
        "colab": {
          "base_uri": "https://localhost:8080/"
        },
        "id": "lPlJLGeHLszR",
        "outputId": "cc5214f1-ee15-4eb7-e1ef-10751f4e1bcd"
      },
      "source": [
        "# convert the year column to datetime \n",
        "financial_df['year'] = pd.to_datetime(financial_df['year'], format='%Y')\n",
        "financial_df.dtypes"
      ],
      "execution_count": 17,
      "outputs": [
        {
          "output_type": "execute_result",
          "data": {
            "text/plain": [
              "country                           object\n",
              "year                      datetime64[ns]\n",
              "account_holder                    object\n",
              "location_type                     object\n",
              "cell_phone_access                 object\n",
              "household_size                   float64\n",
              "age                              float64\n",
              "gender                            object\n",
              "relationship_with_head            object\n",
              "marital_status                    object\n",
              "education_level                   object\n",
              "job                               object\n",
              "dtype: object"
            ]
          },
          "metadata": {
            "tags": []
          },
          "execution_count": 17
        }
      ]
    },
    {
      "cell_type": "markdown",
      "metadata": {
        "id": "0UWvZDAAN5jV"
      },
      "source": [
        "## Outliers and Anomalies "
      ]
    },
    {
      "cell_type": "code",
      "metadata": {
        "colab": {
          "base_uri": "https://localhost:8080/",
          "height": 314
        },
        "id": "K9P5ktq9NWla",
        "outputId": "550cbf8a-99e1-4d47-c1a2-038f013d193d"
      },
      "source": [
        "# outliers in the age column. \n",
        "\n",
        "# plt.boxplot(financial_df['age'], )\n",
        "sns.boxplot (x = financial_df['age'])\n",
        "\n",
        "max_age = financial_df['age'].max()\n",
        "min_age = financial_df['age'].min()\n",
        "\n",
        "print (max_age)\n",
        "print (min_age)"
      ],
      "execution_count": 18,
      "outputs": [
        {
          "output_type": "stream",
          "text": [
            "100.0\n",
            "16.0\n"
          ],
          "name": "stdout"
        },
        {
          "output_type": "display_data",
          "data": {
            "image/png": "[encoded data removed]",
            "text/plain": [
              "<Figure size 432x288 with 1 Axes>"
            ]
          },
          "metadata": {
            "tags": [],
            "needs_background": "light"
          }
        }
      ]
    },
    {
      "cell_type": "markdown",
      "metadata": {
        "id": "5JTvp_U1UKFS"
      },
      "source": [
        "From the analysis, it is clear that the oldest respondent is 100 years and the youngest respondent is i6 years. 100 year plausible therefore, we will not be removing the ouliers. "
      ]
    },
    {
      "cell_type": "code",
      "metadata": {
        "colab": {
          "base_uri": "https://localhost:8080/",
          "height": 314
        },
        "id": "DtyZ7EFuNZVA",
        "outputId": "9b591a75-4023-42cf-89cd-e899cf97cc1b"
      },
      "source": [
        "#outliers in the household column\n",
        "sns.boxplot (x = financial_df['household_size'])\n",
        "max_house = financial_df['household_size'].max()\n",
        "min_house = financial_df['household_size'].min()\n",
        "\n",
        "print (max_house)\n",
        "print (min_house)"
      ],
      "execution_count": 19,
      "outputs": [
        {
          "output_type": "stream",
          "text": [
            "21.0\n",
            "0.0\n"
          ],
          "name": "stdout"
        },
        {
          "output_type": "display_data",
          "data": {
            "image/png": "[encoded data removed]",
            "text/plain": [
              "<Figure size 432x288 with 1 Axes>"
            ]
          },
          "metadata": {
            "tags": [],
            "needs_background": "light"
          }
        }
      ]
    },
    {
      "cell_type": "markdown",
      "metadata": {
        "id": "M3toJIPQWzUT"
      },
      "source": [
        "The maximum household size is 21 which can be plausible. However the minimum household size is 0 which is an anomaly. Which has to be removed\n"
      ]
    },
    {
      "cell_type": "code",
      "metadata": {
        "colab": {
          "base_uri": "https://localhost:8080/"
        },
        "id": "hGEPBpVXR0Li",
        "outputId": "fccb3989-f3a7-447f-d7a5-00914045c434"
      },
      "source": [
        "# remove anomaly in household\n",
        "\n",
        "print ('old shape: ', financial_df.shape )\n",
        "financial_df = financial_df.loc[financial_df['household_size'] != 0]\n",
        "print ('new shape: ', financial_df.shape )\n"
      ],
      "execution_count": 20,
      "outputs": [
        {
          "output_type": "stream",
          "text": [
            "old shape:  (23343, 12)\n",
            "new shape:  (23307, 12)\n"
          ],
          "name": "stdout"
        }
      ]
    },
    {
      "cell_type": "code",
      "metadata": {
        "colab": {
          "base_uri": "https://localhost:8080/"
        },
        "id": "aE3llEtgSuEW",
        "outputId": "0305ef19-ced7-4232-b16c-dfe659a8eae2"
      },
      "source": [
        "#year \n",
        "financial_df['year'].unique()"
      ],
      "execution_count": 21,
      "outputs": [
        {
          "output_type": "execute_result",
          "data": {
            "text/plain": [
              "array(['2018-01-01T00:00:00.000000000', '2029-01-01T00:00:00.000000000',\n",
              "       '2056-01-01T00:00:00.000000000', '2016-01-01T00:00:00.000000000',\n",
              "       '2039-01-01T00:00:00.000000000', '2017-01-01T00:00:00.000000000'],\n",
              "      dtype='datetime64[ns]')"
            ]
          },
          "metadata": {
            "tags": []
          },
          "execution_count": 21
        }
      ]
    },
    {
      "cell_type": "markdown",
      "metadata": {
        "id": "H0d1EdcFawgV"
      },
      "source": [
        "From the documentation we know that the data in the dataframe was recorded for three years (2016, 2017, and 2018). Therefore the rest of the data is an anomaly. Removing the anomaly is the next step.\n"
      ]
    },
    {
      "cell_type": "code",
      "metadata": {
        "colab": {
          "base_uri": "https://localhost:8080/"
        },
        "id": "B1hEVwgZS6fp",
        "outputId": "7dffe94d-d642-412d-8410-19c5e40eb194"
      },
      "source": [
        "#Removing oultiers in the year column\n",
        "print ('old shape: ', financial_df.shape )\n",
        "financial_df = financial_df.loc[financial_df['year'] <= '2019']\n",
        "print ('new shape: ', financial_df.shape )\n"
      ],
      "execution_count": 22,
      "outputs": [
        {
          "output_type": "stream",
          "text": [
            "old shape:  (23307, 12)\n",
            "new shape:  (23304, 12)\n"
          ],
          "name": "stdout"
        }
      ]
    },
    {
      "cell_type": "code",
      "metadata": {
        "id": "BChOwSKKTPvX"
      },
      "source": [
        ""
      ],
      "execution_count": 22,
      "outputs": []
    },
    {
      "cell_type": "markdown",
      "metadata": {
        "id": "4FNb1YzikAXl"
      },
      "source": [
        "# Eploratory Data Analysis"
      ]
    },
    {
      "cell_type": "markdown",
      "metadata": {
        "id": "xeTi3bAHkIKQ"
      },
      "source": [
        "## Univariate Data Analysis"
      ]
    },
    {
      "cell_type": "markdown",
      "metadata": {
        "id": "6dr4oxcDkUgH"
      },
      "source": [
        "### Categorical Data"
      ]
    },
    {
      "cell_type": "code",
      "metadata": {
        "colab": {
          "base_uri": "https://localhost:8080/"
        },
        "id": "zvpQAqQETPxX",
        "outputId": "00b3e8c5-6f9b-49ee-968b-0686731cd349"
      },
      "source": [
        "# country\n",
        "#how many countries are in the dataset.\n",
        "financial_df['country'].value_counts()\n",
        "\n"
      ],
      "execution_count": 33,
      "outputs": [
        {
          "output_type": "execute_result",
          "data": {
            "text/plain": [
              "Rwanda      8683\n",
              "Tanzania    6464\n",
              "Kenya       6062\n",
              "Uganda      2095\n",
              "Name: country, dtype: int64"
            ]
          },
          "metadata": {
            "tags": []
          },
          "execution_count": 33
        }
      ]
    },
    {
      "cell_type": "markdown",
      "metadata": {
        "id": "3FLZCgBioIbj"
      },
      "source": [
        "The country that contributed to most of the data in the dataframe is Rwanda"
      ]
    },
    {
      "cell_type": "code",
      "metadata": {
        "colab": {
          "base_uri": "https://localhost:8080/"
        },
        "id": "UPlNcEcfTPz7",
        "outputId": "20a45425-0814-4e0e-9073-c77ae576d19a"
      },
      "source": [
        "# Gender\n",
        "financial_df['gender'].value_counts()\n"
      ],
      "execution_count": 37,
      "outputs": [
        {
          "output_type": "execute_result",
          "data": {
            "text/plain": [
              "Female    13740\n",
              "Male       9564\n",
              "Name: gender, dtype: int64"
            ]
          },
          "metadata": {
            "tags": []
          },
          "execution_count": 37
        }
      ]
    },
    {
      "cell_type": "markdown",
      "metadata": {
        "id": "VKnMX4emn5t7"
      },
      "source": [
        "There were more Females interviwed for this dataset than males."
      ]
    },
    {
      "cell_type": "code",
      "metadata": {
        "colab": {
          "base_uri": "https://localhost:8080/"
        },
        "id": "b_RdZCRlTP3P",
        "outputId": "bdaa4257-58ac-4d49-f76a-1364ec4b9b3b"
      },
      "source": [
        "financial_df['year'].value_counts()"
      ],
      "execution_count": 40,
      "outputs": [
        {
          "output_type": "execute_result",
          "data": {
            "text/plain": [
              "2016-01-01    8683\n",
              "2018-01-01    8157\n",
              "2017-01-01    6464\n",
              "Name: year, dtype: int64"
            ]
          },
          "metadata": {
            "tags": []
          },
          "execution_count": 40
        }
      ]
    },
    {
      "cell_type": "markdown",
      "metadata": {
        "id": "AiXgD9pUouCE"
      },
      "source": [
        "Most of the data was collected in 2016"
      ]
    },
    {
      "cell_type": "code",
      "metadata": {
        "colab": {
          "base_uri": "https://localhost:8080/",
          "height": 318
        },
        "id": "mQfclnqITP-Q",
        "outputId": "4369480f-5ea2-4b70-841f-67930804e60b"
      },
      "source": [
        "financial_df['account_holder'].value_counts()\n",
        "labl = financial_df['account_holder'].unique()\n",
        "plt.pie(financial_df['account_holder'].value_counts().sort_values(), labels=labl, autopct='%1.1f%%' )\n",
        "plt.title('People with bank accounts', fontsize = 15)\n",
        "print (financial_df['account_holder'].value_counts())"
      ],
      "execution_count": 63,
      "outputs": [
        {
          "output_type": "stream",
          "text": [
            "No     20009\n",
            "Yes     3295\n",
            "Name: account_holder, dtype: int64\n"
          ],
          "name": "stdout"
        },
        {
          "output_type": "display_data",
          "data": {
            "image/png": "[encoded data removed]",
            "text/plain": [
              "<Figure size 432x288 with 1 Axes>"
            ]
          },
          "metadata": {
            "tags": []
          }
        }
      ]
    },
    {
      "cell_type": "markdown",
      "metadata": {
        "id": "ndnCdhhPo3YE"
      },
      "source": [
        "Majority of the respondents do not have a bank account"
      ]
    },
    {
      "cell_type": "code",
      "metadata": {
        "colab": {
          "base_uri": "https://localhost:8080/",
          "height": 318
        },
        "id": "C6W2KYbITQBu",
        "outputId": "e45d20ff-56fd-4b7c-a54d-2f5a767fa5a9"
      },
      "source": [
        "financial_df['cell_phone_access'].value_counts()\n",
        "labl = financial_df['cell_phone_access'].unique()\n",
        "plt.pie(financial_df['cell_phone_access'].value_counts(), labels=labl, autopct='%1.1f%%' )\n",
        "plt.title('Cell phone access', fontsize = 15)\n",
        "print (financial_df['cell_phone_access'].value_counts())\n"
      ],
      "execution_count": 50,
      "outputs": [
        {
          "output_type": "stream",
          "text": [
            "Yes    17319\n",
            "No      5985\n",
            "Name: cell_phone_access, dtype: int64\n"
          ],
          "name": "stdout"
        },
        {
          "output_type": "display_data",
          "data": {
            "image/png": "[encoded data removed]",
            "text/plain": [
              "<Figure size 432x288 with 1 Axes>"
            ]
          },
          "metadata": {
            "tags": []
          }
        }
      ]
    },
    {
      "cell_type": "markdown",
      "metadata": {
        "id": "9wbsX_BmqvpC"
      },
      "source": [
        "Majority of the respondents had access to phones. "
      ]
    },
    {
      "cell_type": "code",
      "metadata": {
        "colab": {
          "base_uri": "https://localhost:8080/",
          "height": 313
        },
        "id": "ADaDgVttTEA9",
        "outputId": "993a3c61-be28-46dd-937a-bb4a74268b5b"
      },
      "source": [
        "#Displaying the education variable\n",
        "plt.figure(figsize=(15,4))\n",
        "\n",
        "sns.countplot(x = financial_df['education_level'].dropna(), order = financial_df['education_level'].value_counts().index);\n",
        "plt.title('Bar chart on the Level of Education  of the respondents')\n",
        "\n"
      ],
      "execution_count": 111,
      "outputs": [
        {
          "output_type": "execute_result",
          "data": {
            "text/plain": [
              "Text(0.5, 1.0, 'Bar chart on the Level of Education  of the respondents')"
            ]
          },
          "metadata": {
            "tags": []
          },
          "execution_count": 111
        },
        {
          "output_type": "display_data",
          "data": {
            "image/png": "[encoded data removed]",
            "text/plain": [
              "<Figure size 1080x288 with 1 Axes>"
            ]
          },
          "metadata": {
            "tags": [],
            "needs_background": "light"
          }
        }
      ]
    },
    {
      "cell_type": "markdown",
      "metadata": {
        "id": "yXvnjxD0FnPn"
      },
      "source": [
        "Most of the respondents have a primary scholl educations and very few people have Tetriary education"
      ]
    },
    {
      "cell_type": "code",
      "metadata": {
        "colab": {
          "base_uri": "https://localhost:8080/",
          "height": 313
        },
        "id": "3NV4jQkOF2Al",
        "outputId": "295064a5-d679-4b90-e2ca-9a41be3bbc7f"
      },
      "source": [
        "# finding the demographic of people based on the maritial status \n",
        "plt.figure(figsize=(13,4))\n",
        "\n",
        "sns.countplot(x = financial_df['marital_status'].dropna(), order = financial_df['marital_status'].value_counts().index);\n",
        "plt.title('Bar chart of the marital status of the population')"
      ],
      "execution_count": 114,
      "outputs": [
        {
          "output_type": "execute_result",
          "data": {
            "text/plain": [
              "Text(0.5, 1.0, 'Bar chart of the marital status of the population')"
            ]
          },
          "metadata": {
            "tags": []
          },
          "execution_count": 114
        },
        {
          "output_type": "display_data",
          "data": {
            "image/png": "[encoded data removed]",
            "text/plain": [
              "<Figure size 936x288 with 1 Axes>"
            ]
          },
          "metadata": {
            "tags": [],
            "needs_background": "light"
          }
        }
      ]
    },
    {
      "cell_type": "markdown",
      "metadata": {
        "id": "f43q6lM_q6Ey"
      },
      "source": [
        "### Ordianal and Ratio data "
      ]
    },
    {
      "cell_type": "markdown",
      "metadata": {
        "id": "qVor3cz3DTRy"
      },
      "source": [
        "#### Household size"
      ]
    },
    {
      "cell_type": "code",
      "metadata": {
        "colab": {
          "base_uri": "https://localhost:8080/"
        },
        "id": "s_JhsAwLsvsj",
        "outputId": "01cd0221-2882-4d0f-c384-8f6cae25dc78"
      },
      "source": [
        "# household size\n",
        "#mean of Household size\n",
        "financial_df['household_size'].mean()"
      ],
      "execution_count": 52,
      "outputs": [
        {
          "output_type": "execute_result",
          "data": {
            "text/plain": [
              "3.6942584963954688"
            ]
          },
          "metadata": {
            "tags": []
          },
          "execution_count": 52
        }
      ]
    },
    {
      "cell_type": "markdown",
      "metadata": {
        "id": "q3Z3V0RW4gRc"
      },
      "source": [
        "The average household size is 3.69 which when rounded off is 4"
      ]
    },
    {
      "cell_type": "code",
      "metadata": {
        "colab": {
          "base_uri": "https://localhost:8080/"
        },
        "id": "fmfcEzDEs36a",
        "outputId": "dad51c6f-e7bd-43ec-8d5f-4da9a04b1de1"
      },
      "source": [
        "#mode of household size\n",
        "financial_df['household_size'].mode()\n"
      ],
      "execution_count": 53,
      "outputs": [
        {
          "output_type": "execute_result",
          "data": {
            "text/plain": [
              "0    2.0\n",
              "dtype: float64"
            ]
          },
          "metadata": {
            "tags": []
          },
          "execution_count": 53
        }
      ]
    },
    {
      "cell_type": "code",
      "metadata": {
        "colab": {
          "base_uri": "https://localhost:8080/"
        },
        "id": "TWvFJv3Ts4Qy",
        "outputId": "94fcf1b1-ed6f-493a-8027-e3e58f637b93"
      },
      "source": [
        "# median \n",
        "financial_df['household_size'].median()\n"
      ],
      "execution_count": 54,
      "outputs": [
        {
          "output_type": "execute_result",
          "data": {
            "text/plain": [
              "3.0"
            ]
          },
          "metadata": {
            "tags": []
          },
          "execution_count": 54
        }
      ]
    },
    {
      "cell_type": "code",
      "metadata": {
        "colab": {
          "base_uri": "https://localhost:8080/"
        },
        "id": "ILbELIkvAQuW",
        "outputId": "7134b78a-318f-406d-9f50-ce5affd51ffe"
      },
      "source": [
        "# Standard deviation.\n",
        "financial_df['household_size'].std()"
      ],
      "execution_count": 83,
      "outputs": [
        {
          "output_type": "execute_result",
          "data": {
            "text/plain": [
              "2.2784210534856366"
            ]
          },
          "metadata": {
            "tags": []
          },
          "execution_count": 83
        }
      ]
    },
    {
      "cell_type": "code",
      "metadata": {
        "colab": {
          "base_uri": "https://localhost:8080/"
        },
        "id": "JpAMZmL6AQnT",
        "outputId": "c5961a3f-ba2f-4dc7-d070-dbd65d39c0cd"
      },
      "source": [
        "# variance\n",
        "financial_df['household_size'].var()\n"
      ],
      "execution_count": 84,
      "outputs": [
        {
          "output_type": "execute_result",
          "data": {
            "text/plain": [
              "5.191202496966597"
            ]
          },
          "metadata": {
            "tags": []
          },
          "execution_count": 84
        }
      ]
    },
    {
      "cell_type": "code",
      "metadata": {
        "colab": {
          "base_uri": "https://localhost:8080/"
        },
        "id": "ElfSRr85AQjF",
        "outputId": "f25c3377-9ced-4eb5-d43e-fef23db2d221"
      },
      "source": [
        "min_hs = financial_df['household_size'].min()\n",
        "max_hs = financial_df['household_size'].max()\n",
        "\n",
        "#range\n",
        "hs_range = max_hs - min_hs\n",
        "\n",
        "print('The range of Household size in the financial dataset is: ', hs_range)"
      ],
      "execution_count": 86,
      "outputs": [
        {
          "output_type": "stream",
          "text": [
            "The range of Household size in the financial dataset is:  20.0\n"
          ],
          "name": "stdout"
        }
      ]
    },
    {
      "cell_type": "code",
      "metadata": {
        "colab": {
          "base_uri": "https://localhost:8080/",
          "height": 367
        },
        "id": "CKvJ5Ny0AQfb",
        "outputId": "438b2394-dd1c-4774-ff9a-779222e771bb"
      },
      "source": [
        "# Quantiles\n",
        "financial_df['household_size'].quantile([0.25, 0.50, 0.75])\n",
        "ax = sns.boxplot(x = financial_df['household_size'])\n",
        "ax.set_title ('Box plot of the Household size', fontsize = 15)\n",
        "print (financial_df['household_size'].quantile([0.25, 0.50, 0.75]))"
      ],
      "execution_count": 94,
      "outputs": [
        {
          "output_type": "stream",
          "text": [
            "0.25    2.0\n",
            "0.50    3.0\n",
            "0.75    5.0\n",
            "Name: household_size, dtype: float64\n"
          ],
          "name": "stdout"
        },
        {
          "output_type": "display_data",
          "data": {
            "image/png": "[encoded data removed]",
            "text/plain": [
              "<Figure size 432x288 with 1 Axes>"
            ]
          },
          "metadata": {
            "tags": [],
            "needs_background": "light"
          }
        }
      ]
    },
    {
      "cell_type": "code",
      "metadata": {
        "colab": {
          "base_uri": "https://localhost:8080/"
        },
        "id": "vbV3uqZLAQc_",
        "outputId": "7559535d-6863-4e01-b3f4-b581df44deb7"
      },
      "source": [
        "# skewness\n",
        "financial_df['household_size'].skew()"
      ],
      "execution_count": 95,
      "outputs": [
        {
          "output_type": "execute_result",
          "data": {
            "text/plain": [
              "0.978410362939571"
            ]
          },
          "metadata": {
            "tags": []
          },
          "execution_count": 95
        }
      ]
    },
    {
      "cell_type": "code",
      "metadata": {
        "colab": {
          "base_uri": "https://localhost:8080/"
        },
        "id": "oywdF1kyAQLx",
        "outputId": "9f6e10fb-79ae-4b68-ff25-75b6bf58ac15"
      },
      "source": [
        "# kurtosis\n",
        "financial_df['household_size'].kurt()\n"
      ],
      "execution_count": 96,
      "outputs": [
        {
          "output_type": "execute_result",
          "data": {
            "text/plain": [
              "1.160696034089141"
            ]
          },
          "metadata": {
            "tags": []
          },
          "execution_count": 96
        }
      ]
    },
    {
      "cell_type": "code",
      "metadata": {
        "colab": {
          "base_uri": "https://localhost:8080/",
          "height": 315
        },
        "id": "ATiXzibCC3VN",
        "outputId": "8277e96d-7817-4e1c-ed94-3f6c7674bb58"
      },
      "source": [
        "# Histogram of household size distribution.\n",
        "ax = sns.histplot(financial_df['household_size'])\n",
        "ax.set_title('Household size distribution of respondents', fontsize = 16)\n",
        "ax.set_ylabel('Number of poeple') "
      ],
      "execution_count": 97,
      "outputs": [
        {
          "output_type": "execute_result",
          "data": {
            "text/plain": [
              "Text(0, 0.5, 'Number of poeple')"
            ]
          },
          "metadata": {
            "tags": []
          },
          "execution_count": 97
        },
        {
          "output_type": "display_data",
          "data": {
            "image/png": "[encoded data removed]",
            "text/plain": [
              "<Figure size 432x288 with 1 Axes>"
            ]
          },
          "metadata": {
            "tags": [],
            "needs_background": "light"
          }
        }
      ]
    },
    {
      "cell_type": "markdown",
      "metadata": {
        "id": "9ZvOzN0-AE8z"
      },
      "source": [
        "#### Age"
      ]
    },
    {
      "cell_type": "code",
      "metadata": {
        "colab": {
          "base_uri": "https://localhost:8080/"
        },
        "id": "rNrtqPO0s4db",
        "outputId": "f27420c7-a1c8-4ba7-dda6-4bd31205ef34"
      },
      "source": [
        "# Age\n",
        "#mean age\n",
        "financial_df['age'].mean()"
      ],
      "execution_count": 64,
      "outputs": [
        {
          "output_type": "execute_result",
          "data": {
            "text/plain": [
              "38.780595605904566"
            ]
          },
          "metadata": {
            "tags": []
          },
          "execution_count": 64
        }
      ]
    },
    {
      "cell_type": "code",
      "metadata": {
        "colab": {
          "base_uri": "https://localhost:8080/"
        },
        "id": "OANKenmP4u-v",
        "outputId": "b8f339f6-4532-4ffd-9b22-cab5d593ce84"
      },
      "source": [
        "#mode age\n",
        "financial_df['age'].mode()"
      ],
      "execution_count": 65,
      "outputs": [
        {
          "output_type": "execute_result",
          "data": {
            "text/plain": [
              "0    30.0\n",
              "dtype: float64"
            ]
          },
          "metadata": {
            "tags": []
          },
          "execution_count": 65
        }
      ]
    },
    {
      "cell_type": "code",
      "metadata": {
        "colab": {
          "base_uri": "https://localhost:8080/"
        },
        "id": "jwA--2uT43bU",
        "outputId": "095ddf39-19aa-4a47-c459-1a1b9b804e76"
      },
      "source": [
        "#median age\n",
        "financial_df['age'].median()"
      ],
      "execution_count": 66,
      "outputs": [
        {
          "output_type": "execute_result",
          "data": {
            "text/plain": [
              "35.0"
            ]
          },
          "metadata": {
            "tags": []
          },
          "execution_count": 66
        }
      ]
    },
    {
      "cell_type": "markdown",
      "metadata": {
        "id": "mBhFe1UR4_IB"
      },
      "source": [
        "The Mean age of the respondents is 38.7 which rounds of to 39."
      ]
    },
    {
      "cell_type": "code",
      "metadata": {
        "colab": {
          "base_uri": "https://localhost:8080/"
        },
        "id": "Fr7_USU45cG_",
        "outputId": "9bbf9bbb-82fe-40cd-d13f-3cdd8cc87004"
      },
      "source": [
        "# Age Range \n",
        "min_age = financial_df['age'].min()\n",
        "max_age = financial_df['age'].max()\n",
        "\n",
        "#range\n",
        "age_range = max_age - min_age\n",
        " \n",
        "print('The range of age in the financial dataset is: ', age_range)"
      ],
      "execution_count": 68,
      "outputs": [
        {
          "output_type": "stream",
          "text": [
            "The range of age in the financial dataset is:  84.0\n"
          ],
          "name": "stdout"
        }
      ]
    },
    {
      "cell_type": "code",
      "metadata": {
        "colab": {
          "base_uri": "https://localhost:8080/"
        },
        "id": "8IQnGh9d5cED",
        "outputId": "ecd5e54e-316c-478e-f5d8-e387fc935ba1"
      },
      "source": [
        "# The standard deviation of age\n",
        "financial_df['age'].std()"
      ],
      "execution_count": 70,
      "outputs": [
        {
          "output_type": "execute_result",
          "data": {
            "text/plain": [
              "16.484322096040838"
            ]
          },
          "metadata": {
            "tags": []
          },
          "execution_count": 70
        }
      ]
    },
    {
      "cell_type": "code",
      "metadata": {
        "colab": {
          "base_uri": "https://localhost:8080/"
        },
        "id": "-cribt6W5cA-",
        "outputId": "54454d60-dae0-4520-c089-10df3f686182"
      },
      "source": [
        "# The variance of age data\n",
        "financial_df['age'].var()\n"
      ],
      "execution_count": 71,
      "outputs": [
        {
          "output_type": "execute_result",
          "data": {
            "text/plain": [
              "271.73287496602023"
            ]
          },
          "metadata": {
            "tags": []
          },
          "execution_count": 71
        }
      ]
    },
    {
      "cell_type": "code",
      "metadata": {
        "colab": {
          "base_uri": "https://localhost:8080/"
        },
        "id": "iTGhhAfV5b9W",
        "outputId": "246bf0c9-900d-48f6-ad0f-25f52ab019a0"
      },
      "source": [
        "# Quantiles\n",
        "financial_df['age'].quantile([0.25, 0.50, 0.75])\n"
      ],
      "execution_count": 73,
      "outputs": [
        {
          "output_type": "execute_result",
          "data": {
            "text/plain": [
              "0.25    26.0\n",
              "0.50    35.0\n",
              "0.75    49.0\n",
              "Name: age, dtype: float64"
            ]
          },
          "metadata": {
            "tags": []
          },
          "execution_count": 73
        }
      ]
    },
    {
      "cell_type": "code",
      "metadata": {
        "colab": {
          "base_uri": "https://localhost:8080/"
        },
        "id": "yszJTKEq5b3m",
        "outputId": "8ce16710-5459-4f18-f3d0-7376c10ad3ac"
      },
      "source": [
        "# Interquantile range\n",
        "q3 = financial_df['age'].quantile(0.75)\n",
        "q1 = financial_df['age'].quantile(0.25)  \n",
        "\n",
        "print('The interquantile range is: ',  q3 - q1)"
      ],
      "execution_count": 76,
      "outputs": [
        {
          "output_type": "stream",
          "text": [
            "The interquantile range is:  23.0\n"
          ],
          "name": "stdout"
        }
      ]
    },
    {
      "cell_type": "code",
      "metadata": {
        "colab": {
          "base_uri": "https://localhost:8080/"
        },
        "id": "OoNeH74Z-YSB",
        "outputId": "192aa356-de40-476f-ed22-ebd8aadde8b1"
      },
      "source": [
        "# skewness\n",
        "financial_df['age'].skew()\n"
      ],
      "execution_count": 77,
      "outputs": [
        {
          "output_type": "execute_result",
          "data": {
            "text/plain": [
              "0.8381743097500266"
            ]
          },
          "metadata": {
            "tags": []
          },
          "execution_count": 77
        }
      ]
    },
    {
      "cell_type": "code",
      "metadata": {
        "colab": {
          "base_uri": "https://localhost:8080/",
          "height": 314
        },
        "id": "vQwtpeGq46m-",
        "outputId": "a5c77f1a-35d0-403d-9f05-8cdbcb17efdd"
      },
      "source": [
        "# histogram of the age of respondents\n",
        "ax = sns.histplot(financial_df['age'])\n",
        "ax.set_title('Age distribution of respondents', fontsize = 16)\n",
        "ax.set_ylabel('Number of poeple')\n",
        "  "
      ],
      "execution_count": 82,
      "outputs": [
        {
          "output_type": "execute_result",
          "data": {
            "text/plain": [
              "Text(0, 0.5, 'Number of poeple')"
            ]
          },
          "metadata": {
            "tags": []
          },
          "execution_count": 82
        },
        {
          "output_type": "display_data",
          "data": {
            "image/png": "[encoded data removed]",
            "text/plain": [
              "<Figure size 432x288 with 1 Axes>"
            ]
          },
          "metadata": {
            "tags": [],
            "needs_background": "light"
          }
        }
      ]
    },
    {
      "cell_type": "code",
      "metadata": {
        "id": "mVlg4Osq_V3D"
      },
      "source": [
        ""
      ],
      "execution_count": null,
      "outputs": []
    },
    {
      "cell_type": "markdown",
      "metadata": {
        "id": "DzrI11sYDccS"
      },
      "source": [
        "## Bivariate Analysis"
      ]
    },
    {
      "cell_type": "code",
      "metadata": {
        "colab": {
          "base_uri": "https://localhost:8080/",
          "height": 296
        },
        "id": "exk_7r-KDiI9",
        "outputId": "c543418b-ae82-4724-b7cb-e63ed50438f2"
      },
      "source": [
        "# Scatterplot \n",
        "# Relationship between age and bank account ownership\n",
        "financial_df.plot(x = 'age', y = 'household_size', kind='scatter')"
      ],
      "execution_count": 102,
      "outputs": [
        {
          "output_type": "execute_result",
          "data": {
            "text/plain": [
              "<matplotlib.axes._subplots.AxesSubplot at 0x7fece6189050>"
            ]
          },
          "metadata": {
            "tags": []
          },
          "execution_count": 102
        },
        {
          "output_type": "display_data",
          "data": {
            "image/png": "[encoded data removed]",
            "text/plain": [
              "<Figure size 432x288 with 1 Axes>"
            ]
          },
          "metadata": {
            "tags": [],
            "needs_background": "light"
          }
        }
      ]
    },
    {
      "cell_type": "markdown",
      "metadata": {
        "id": "kJDZavtREhC9"
      },
      "source": [
        "There is no apparent relationship between the age of the respondents and the household size. "
      ]
    },
    {
      "cell_type": "code",
      "metadata": {
        "colab": {
          "base_uri": "https://localhost:8080/"
        },
        "id": "gvSMWuq1Duad",
        "outputId": "b9337920-5fd0-4675-c10d-bb6dde6bb057"
      },
      "source": [
        "#Confirming for correlation\n",
        "financial_df[\"household_size\"].corr(financial_df[\"age\"])\n"
      ],
      "execution_count": 115,
      "outputs": [
        {
          "output_type": "execute_result",
          "data": {
            "text/plain": [
              "-0.11766108234848949"
            ]
          },
          "metadata": {
            "tags": []
          },
          "execution_count": 115
        }
      ]
    },
    {
      "cell_type": "markdown",
      "metadata": {
        "id": "ewpQqPlRGlf2"
      },
      "source": [
        "There is a weak negative correlation."
      ]
    },
    {
      "cell_type": "code",
      "metadata": {
        "colab": {
          "base_uri": "https://localhost:8080/",
          "height": 301
        },
        "id": "tQRriW4ZGjrw",
        "outputId": "f28b76df-3c12-48ab-bd0f-364a07ecad66"
      },
      "source": [
        "#querying the correlation between age, household size of the respondent\n",
        "correlation = financial_df.corr()\n",
        "sns.heatmap(correlation, vmax=1, square=True,annot=True)\n",
        "\n",
        "plt.title('Correlation between different features', fontsize = 15)\n"
      ],
      "execution_count": 118,
      "outputs": [
        {
          "output_type": "execute_result",
          "data": {
            "text/plain": [
              "Text(0.5, 1.0, 'Correlation between different fearures')"
            ]
          },
          "metadata": {
            "tags": []
          },
          "execution_count": 118
        },
        {
          "output_type": "display_data",
          "data": {
            "image/png": "[encoded data removed]",
            "text/plain": [
              "<Figure size 432x288 with 2 Axes>"
            ]
          },
          "metadata": {
            "tags": [],
            "needs_background": "light"
          }
        }
      ]
    },
    {
      "cell_type": "markdown",
      "metadata": {
        "id": "TkAOExnbHQB2"
      },
      "source": [
        "There is no correlation"
      ]
    },
    {
      "cell_type": "code",
      "metadata": {
        "colab": {
          "base_uri": "https://localhost:8080/",
          "height": 634
        },
        "id": "JDa9VAmsG-mR",
        "outputId": "f72254f8-ec12-4fc2-b2d6-e4d7e68177a6"
      },
      "source": [
        "financial_df['country'] \n",
        "financial_df['household size', 'age']"
      ],
      "execution_count": 119,
      "outputs": [
        {
          "output_type": "execute_result",
          "data": {
            "text/html": [
              "<div>\n",
              "<style scoped>\n",
              "    .dataframe tbody tr th:only-of-type {\n",
              "        vertical-align: middle;\n",
              "    }\n",
              "\n",
              "    .dataframe tbody tr th {\n",
              "        vertical-align: top;\n",
              "    }\n",
              "\n",
              "    .dataframe thead th {\n",
              "        text-align: right;\n",
              "    }\n",
              "</style>\n",
              "<table border=\"1\" class=\"dataframe\">\n",
              "  <thead>\n",
              "    <tr style=\"text-align: right;\">\n",
              "      <th></th>\n",
              "      <th>country</th>\n",
              "      <th>year</th>\n",
              "      <th>account_holder</th>\n",
              "      <th>location_type</th>\n",
              "      <th>cell_phone_access</th>\n",
              "      <th>household_size</th>\n",
              "      <th>age</th>\n",
              "      <th>gender</th>\n",
              "      <th>relationship_with_head</th>\n",
              "      <th>marital_status</th>\n",
              "      <th>education_level</th>\n",
              "      <th>job</th>\n",
              "    </tr>\n",
              "  </thead>\n",
              "  <tbody>\n",
              "    <tr>\n",
              "      <th>0</th>\n",
              "      <td>Kenya</td>\n",
              "      <td>2018-01-01</td>\n",
              "      <td>Yes</td>\n",
              "      <td>Rural</td>\n",
              "      <td>Yes</td>\n",
              "      <td>3.0</td>\n",
              "      <td>24.0</td>\n",
              "      <td>Female</td>\n",
              "      <td>Spouse</td>\n",
              "      <td>Married/Living together</td>\n",
              "      <td>Secondary education</td>\n",
              "      <td>Self employed</td>\n",
              "    </tr>\n",
              "    <tr>\n",
              "      <th>1</th>\n",
              "      <td>Kenya</td>\n",
              "      <td>2018-01-01</td>\n",
              "      <td>No</td>\n",
              "      <td>Rural</td>\n",
              "      <td>No</td>\n",
              "      <td>5.0</td>\n",
              "      <td>70.0</td>\n",
              "      <td>Female</td>\n",
              "      <td>Head of Household</td>\n",
              "      <td>Widowed</td>\n",
              "      <td>No formal education</td>\n",
              "      <td>Government Dependent</td>\n",
              "    </tr>\n",
              "    <tr>\n",
              "      <th>2</th>\n",
              "      <td>Kenya</td>\n",
              "      <td>2018-01-01</td>\n",
              "      <td>Yes</td>\n",
              "      <td>Urban</td>\n",
              "      <td>Yes</td>\n",
              "      <td>5.0</td>\n",
              "      <td>26.0</td>\n",
              "      <td>Male</td>\n",
              "      <td>Other relative</td>\n",
              "      <td>Single/Never Married</td>\n",
              "      <td>Vocational/Specialised training</td>\n",
              "      <td>Self employed</td>\n",
              "    </tr>\n",
              "    <tr>\n",
              "      <th>3</th>\n",
              "      <td>Kenya</td>\n",
              "      <td>2018-01-01</td>\n",
              "      <td>No</td>\n",
              "      <td>Rural</td>\n",
              "      <td>Yes</td>\n",
              "      <td>5.0</td>\n",
              "      <td>34.0</td>\n",
              "      <td>Female</td>\n",
              "      <td>Head of Household</td>\n",
              "      <td>Married/Living together</td>\n",
              "      <td>Primary education</td>\n",
              "      <td>Formally employed Private</td>\n",
              "    </tr>\n",
              "    <tr>\n",
              "      <th>4</th>\n",
              "      <td>Kenya</td>\n",
              "      <td>2018-01-01</td>\n",
              "      <td>No</td>\n",
              "      <td>Urban</td>\n",
              "      <td>No</td>\n",
              "      <td>8.0</td>\n",
              "      <td>26.0</td>\n",
              "      <td>Male</td>\n",
              "      <td>Child</td>\n",
              "      <td>Single/Never Married</td>\n",
              "      <td>Primary education</td>\n",
              "      <td>Informally employed</td>\n",
              "    </tr>\n",
              "    <tr>\n",
              "      <th>...</th>\n",
              "      <td>...</td>\n",
              "      <td>...</td>\n",
              "      <td>...</td>\n",
              "      <td>...</td>\n",
              "      <td>...</td>\n",
              "      <td>...</td>\n",
              "      <td>...</td>\n",
              "      <td>...</td>\n",
              "      <td>...</td>\n",
              "      <td>...</td>\n",
              "      <td>...</td>\n",
              "      <td>...</td>\n",
              "    </tr>\n",
              "    <tr>\n",
              "      <th>23519</th>\n",
              "      <td>Uganda</td>\n",
              "      <td>2018-01-01</td>\n",
              "      <td>No</td>\n",
              "      <td>Rural</td>\n",
              "      <td>Yes</td>\n",
              "      <td>4.0</td>\n",
              "      <td>48.0</td>\n",
              "      <td>Female</td>\n",
              "      <td>Head of Household</td>\n",
              "      <td>Divorced/Seperated</td>\n",
              "      <td>No formal education</td>\n",
              "      <td>Other Income</td>\n",
              "    </tr>\n",
              "    <tr>\n",
              "      <th>23520</th>\n",
              "      <td>Uganda</td>\n",
              "      <td>2018-01-01</td>\n",
              "      <td>No</td>\n",
              "      <td>Rural</td>\n",
              "      <td>Yes</td>\n",
              "      <td>2.0</td>\n",
              "      <td>27.0</td>\n",
              "      <td>Female</td>\n",
              "      <td>Head of Household</td>\n",
              "      <td>Single/Never Married</td>\n",
              "      <td>Secondary education</td>\n",
              "      <td>Other Income</td>\n",
              "    </tr>\n",
              "    <tr>\n",
              "      <th>23521</th>\n",
              "      <td>Uganda</td>\n",
              "      <td>2018-01-01</td>\n",
              "      <td>No</td>\n",
              "      <td>Rural</td>\n",
              "      <td>Yes</td>\n",
              "      <td>5.0</td>\n",
              "      <td>27.0</td>\n",
              "      <td>Female</td>\n",
              "      <td>Parent</td>\n",
              "      <td>Widowed</td>\n",
              "      <td>Primary education</td>\n",
              "      <td>Other Income</td>\n",
              "    </tr>\n",
              "    <tr>\n",
              "      <th>23522</th>\n",
              "      <td>Uganda</td>\n",
              "      <td>2018-01-01</td>\n",
              "      <td>No</td>\n",
              "      <td>Urban</td>\n",
              "      <td>Yes</td>\n",
              "      <td>7.0</td>\n",
              "      <td>30.0</td>\n",
              "      <td>Female</td>\n",
              "      <td>Parent</td>\n",
              "      <td>Divorced/Seperated</td>\n",
              "      <td>Secondary education</td>\n",
              "      <td>Self employed</td>\n",
              "    </tr>\n",
              "    <tr>\n",
              "      <th>23523</th>\n",
              "      <td>Uganda</td>\n",
              "      <td>2018-01-01</td>\n",
              "      <td>No</td>\n",
              "      <td>Rural</td>\n",
              "      <td>Yes</td>\n",
              "      <td>10.0</td>\n",
              "      <td>20.0</td>\n",
              "      <td>Male</td>\n",
              "      <td>Child</td>\n",
              "      <td>Single/Never Married</td>\n",
              "      <td>Secondary education</td>\n",
              "      <td>No Income</td>\n",
              "    </tr>\n",
              "  </tbody>\n",
              "</table>\n",
              "<p>23304 rows × 12 columns</p>\n",
              "</div>"
            ],
            "text/plain": [
              "      country  ...                        job\n",
              "0       Kenya  ...              Self employed\n",
              "1       Kenya  ...       Government Dependent\n",
              "2       Kenya  ...              Self employed\n",
              "3       Kenya  ...  Formally employed Private\n",
              "4       Kenya  ...        Informally employed\n",
              "...       ...  ...                        ...\n",
              "23519  Uganda  ...               Other Income\n",
              "23520  Uganda  ...               Other Income\n",
              "23521  Uganda  ...               Other Income\n",
              "23522  Uganda  ...              Self employed\n",
              "23523  Uganda  ...                  No Income\n",
              "\n",
              "[23304 rows x 12 columns]"
            ]
          },
          "metadata": {
            "tags": []
          },
          "execution_count": 119
        }
      ]
    },
    {
      "cell_type": "code",
      "metadata": {
        "colab": {
          "base_uri": "https://localhost:8080/",
          "height": 206
        },
        "id": "RS9dL1zSIE0M",
        "outputId": "12805c54-2d59-4cd1-f3dc-1d9dd45f71c0"
      },
      "source": [
        "# The mean of peoples ages and household size per country\n",
        "axe = financial_df.pivot_table(\n",
        "    [\"age\", \"household_size\"],\n",
        "    [\"country\"],\n",
        "    aggfunc=\"mean\",)\n",
        "ax"
      ],
      "execution_count": 139,
      "outputs": [
        {
          "output_type": "execute_result",
          "data": {
            "text/html": [
              "<div>\n",
              "<style scoped>\n",
              "    .dataframe tbody tr th:only-of-type {\n",
              "        vertical-align: middle;\n",
              "    }\n",
              "\n",
              "    .dataframe tbody tr th {\n",
              "        vertical-align: top;\n",
              "    }\n",
              "\n",
              "    .dataframe thead th {\n",
              "        text-align: right;\n",
              "    }\n",
              "</style>\n",
              "<table border=\"1\" class=\"dataframe\">\n",
              "  <thead>\n",
              "    <tr style=\"text-align: right;\">\n",
              "      <th></th>\n",
              "      <th>age</th>\n",
              "      <th>household_size</th>\n",
              "    </tr>\n",
              "    <tr>\n",
              "      <th>country</th>\n",
              "      <th></th>\n",
              "      <th></th>\n",
              "    </tr>\n",
              "  </thead>\n",
              "  <tbody>\n",
              "    <tr>\n",
              "      <th>Kenya</th>\n",
              "      <td>39.624051</td>\n",
              "      <td>3.987133</td>\n",
              "    </tr>\n",
              "    <tr>\n",
              "      <th>Rwanda</th>\n",
              "      <td>39.278360</td>\n",
              "      <td>4.482782</td>\n",
              "    </tr>\n",
              "    <tr>\n",
              "      <th>Tanzania</th>\n",
              "      <td>38.385210</td>\n",
              "      <td>1.942450</td>\n",
              "    </tr>\n",
              "    <tr>\n",
              "      <th>Uganda</th>\n",
              "      <td>35.496897</td>\n",
              "      <td>4.983771</td>\n",
              "    </tr>\n",
              "  </tbody>\n",
              "</table>\n",
              "</div>"
            ],
            "text/plain": [
              "                age  household_size\n",
              "country                            \n",
              "Kenya     39.624051        3.987133\n",
              "Rwanda    39.278360        4.482782\n",
              "Tanzania  38.385210        1.942450\n",
              "Uganda    35.496897        4.983771"
            ]
          },
          "metadata": {
            "tags": []
          },
          "execution_count": 139
        }
      ]
    },
    {
      "cell_type": "code",
      "metadata": {
        "id": "V-SmQ8KuJldm"
      },
      "source": [
        ""
      ],
      "execution_count": null,
      "outputs": []
    }
  ]
}